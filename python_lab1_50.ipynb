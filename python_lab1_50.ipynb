{
  "nbformat": 4,
  "nbformat_minor": 0,
  "metadata": {
    "colab": {
      "provenance": [],
      "authorship_tag": "ABX9TyNaMdJ7/vAz19s+7EYPnDQV",
      "include_colab_link": true
    },
    "kernelspec": {
      "name": "python3",
      "display_name": "Python 3"
    },
    "language_info": {
      "name": "python"
    }
  },
  "cells": [
    {
      "cell_type": "markdown",
      "metadata": {
        "id": "view-in-github",
        "colab_type": "text"
      },
      "source": [
        "<a href=\"https://colab.research.google.com/github/Mudit0917/batch_50_python/blob/main/python_lab1_50.ipynb\" target=\"_parent\"><img src=\"https://colab.research.google.com/assets/colab-badge.svg\" alt=\"Open In Colab\"/></a>"
      ]
    },
    {
      "cell_type": "code",
      "execution_count": null,
      "metadata": {
        "colab": {
          "base_uri": "https://localhost:8080/"
        },
        "id": "6ihXlOPoJY1W",
        "outputId": "207f6a3a-7200-45a7-b102-70372e85fc0a"
      },
      "outputs": [
        {
          "output_type": "stream",
          "name": "stdout",
          "text": [
            "welcome to my python lab\n"
          ]
        }
      ],
      "source": [
        "#welcome to my first lab\n",
        "print(\"welcome to my python lab\")\n"
      ]
    },
    {
      "cell_type": "code",
      "source": [],
      "metadata": {
        "id": "7Fp1FFWqKAhg"
      },
      "execution_count": null,
      "outputs": []
    },
    {
      "cell_type": "markdown",
      "source": [
        "**KEYWORDS AND IDENTIFIERS**\n"
      ],
      "metadata": {
        "id": "vO18TEDYMWvC"
      }
    },
    {
      "cell_type": "code",
      "source": [
        "print(keyw.kwlist())"
      ],
      "metadata": {
        "colab": {
          "base_uri": "https://localhost:8080/",
          "height": 141
        },
        "id": "gQj-6_IXMoe0",
        "outputId": "03d1f7ac-55de-44ac-b255-3100afda8be3"
      },
      "execution_count": null,
      "outputs": [
        {
          "output_type": "error",
          "ename": "NameError",
          "evalue": "name 'keyw' is not defined",
          "traceback": [
            "\u001b[0;31m---------------------------------------------------------------------------\u001b[0m",
            "\u001b[0;31mNameError\u001b[0m                                 Traceback (most recent call last)",
            "\u001b[0;32m<ipython-input-2-74717d282a57>\u001b[0m in \u001b[0;36m<cell line: 1>\u001b[0;34m()\u001b[0m\n\u001b[0;32m----> 1\u001b[0;31m \u001b[0mprint\u001b[0m\u001b[0;34m(\u001b[0m\u001b[0mkeyw\u001b[0m\u001b[0;34m.\u001b[0m\u001b[0mkwlist\u001b[0m\u001b[0;34m(\u001b[0m\u001b[0;34m)\u001b[0m\u001b[0;34m)\u001b[0m\u001b[0;34m\u001b[0m\u001b[0;34m\u001b[0m\u001b[0m\n\u001b[0m",
            "\u001b[0;31mNameError\u001b[0m: name 'keyw' is not defined"
          ]
        }
      ]
    },
    {
      "cell_type": "code",
      "source": [
        "a=10+10\n",
        "print(a)\n",
        "a=10+10+\\\n",
        "  20+20+\\\n",
        "  30+20+10\n",
        "print(a)"
      ],
      "metadata": {
        "colab": {
          "base_uri": "https://localhost:8080/"
        },
        "id": "njE-cC5uNUjd",
        "outputId": "a712d1b0-efba-4be8-e145-e1b6d7be5690"
      },
      "execution_count": null,
      "outputs": [
        {
          "output_type": "stream",
          "name": "stdout",
          "text": [
            "20\n",
            "120\n"
          ]
        }
      ]
    },
    {
      "cell_type": "code",
      "source": [
        "# @title Default title text\n",
        "l1=['a',\n",
        "    'b',\n",
        "    'c',\n",
        "    'd',\n",
        "    'e'\n",
        "    ]\n",
        "l1"
      ],
      "metadata": {
        "colab": {
          "base_uri": "https://localhost:8080/"
        },
        "id": "3rWzIkYZORnE",
        "outputId": "921a6e43-c385-42dc-c045-b6af138df9d1"
      },
      "execution_count": null,
      "outputs": [
        {
          "output_type": "execute_result",
          "data": {
            "text/plain": [
              "['a', 'b', 'c', 'd', 'e']"
            ]
          },
          "metadata": {},
          "execution_count": 11
        }
      ]
    },
    {
      "cell_type": "markdown",
      "source": [],
      "metadata": {
        "id": "nIJL5suEO4Sp"
      }
    },
    {
      "cell_type": "code",
      "source": [
        "#assignment\n",
        "#mystring=\"'Hi, My name is Mudit tyagi'\\n 'And I Am A student doing my bachelors from UPES'\"\n",
        "print(mystring)"
      ],
      "metadata": {
        "colab": {
          "base_uri": "https://localhost:8080/"
        },
        "id": "IoVbPrUmQ55H",
        "outputId": "e4c6c9ea-7959-4843-a29b-5ca46924f054"
      },
      "execution_count": null,
      "outputs": [
        {
          "output_type": "stream",
          "name": "stdout",
          "text": [
            "'Hi, My name is Mudit tyagi'\n",
            " 'And I Am A student doing my bachlors from UPES'\n"
          ]
        }
      ]
    },
    {
      "cell_type": "code",
      "source": [
        "num1"
      ],
      "metadata": {
        "id": "rW_BxhFTS6ht"
      },
      "execution_count": null,
      "outputs": []
    },
    {
      "cell_type": "code",
      "source": [
        "num1=int(input(\"Enter your first number\"))\n",
        "num2=int(input(\"Enter your second number\"))\n",
        "sum=(num1 + num2)\n",
        "sum"
      ],
      "metadata": {
        "colab": {
          "base_uri": "https://localhost:8080/"
        },
        "id": "uud8j45wR8iU",
        "outputId": "118cebe3-81e4-4433-afd6-44e3d4f0a262"
      },
      "execution_count": null,
      "outputs": [
        {
          "name": "stdout",
          "output_type": "stream",
          "text": [
            "Enter your first number786\n",
            "Enter your second number108\n"
          ]
        },
        {
          "output_type": "execute_result",
          "data": {
            "text/plain": [
              "894"
            ]
          },
          "metadata": {},
          "execution_count": 21
        }
      ]
    },
    {
      "cell_type": "code",
      "source": [
        "num1=int(input(\"enter your first number\"))\n",
        "num2=int(input(\"enter your second number\"))\n",
        "product=(num1*num2)\n",
        "print(product)"
      ],
      "metadata": {
        "colab": {
          "base_uri": "https://localhost:8080/"
        },
        "id": "2OSZKb5JUwm8",
        "outputId": "63c8eee8-1dd0-4955-9c7f-af795064854a"
      },
      "execution_count": null,
      "outputs": [
        {
          "output_type": "stream",
          "name": "stdout",
          "text": [
            "enter your first number786\n",
            "enter your second number108\n",
            "84888\n"
          ]
        }
      ]
    },
    {
      "cell_type": "code",
      "source": [
        "a=10\n",
        "b=5\n",
        "print(a+b)\n",
        "print(a-b)\n",
        "print(a*b)\n",
        "print(a/b)\n",
        "print(a%b)"
      ],
      "metadata": {
        "id": "Re239xQgVPnt",
        "colab": {
          "base_uri": "https://localhost:8080/"
        },
        "outputId": "171ca8e4-d76a-4de3-b405-fc8db4ca525a"
      },
      "execution_count": null,
      "outputs": [
        {
          "output_type": "stream",
          "name": "stdout",
          "text": [
            "15\n",
            "5\n",
            "50\n",
            "2.0\n",
            "0\n"
          ]
        }
      ]
    },
    {
      "cell_type": "code",
      "source": [
        "a=17\n",
        "b=3\n",
        "print(a//b)"
      ],
      "metadata": {
        "colab": {
          "base_uri": "https://localhost:8080/"
        },
        "id": "SgjZF8R4lOCl",
        "outputId": "49e2e032-12b9-4983-bad5-f7f6a87abe80"
      },
      "execution_count": null,
      "outputs": [
        {
          "output_type": "stream",
          "name": "stdout",
          "text": [
            "5\n"
          ]
        }
      ]
    },
    {
      "cell_type": "code",
      "source": [
        "a=17\n",
        "b=3\n",
        "print(a**b)\n",
        "print(a/b)\n",
        "print(a==b)\n",
        "print(a!=b)\n",
        "print(a>b)\n",
        "print(a<b)\n",
        "print(a>=b)\n",
        "print(a<=b)\n",
        "print(a^b)"
      ],
      "metadata": {
        "colab": {
          "base_uri": "https://localhost:8080/"
        },
        "id": "1VIeW-e0lZMK",
        "outputId": "940eea2d-7a79-483e-d397-3976852658d3"
      },
      "execution_count": null,
      "outputs": [
        {
          "output_type": "stream",
          "name": "stdout",
          "text": [
            "4913\n",
            "5.666666666666667\n",
            "False\n",
            "True\n",
            "True\n",
            "False\n",
            "True\n",
            "False\n",
            "18\n"
          ]
        }
      ]
    },
    {
      "cell_type": "markdown",
      "source": [
        "BITWISE OPERATORS\n"
      ],
      "metadata": {
        "id": "HX4_1Mgqm3AQ"
      }
    },
    {
      "cell_type": "markdown",
      "source": [
        "AND(&),OR(OR),NOT(!),XOR(^)\n",
        "\n"
      ],
      "metadata": {
        "id": "rORrTUHXoTex"
      }
    },
    {
      "cell_type": "code",
      "source": [
        "a=0o00001010\n",
        "print(a>>1)\n"
      ],
      "metadata": {
        "colab": {
          "base_uri": "https://localhost:8080/"
        },
        "id": "DtXRzeOCqwN0",
        "outputId": "5a3743ce-02d0-4d78-c94d-df56be547df1"
      },
      "execution_count": null,
      "outputs": [
        {
          "output_type": "stream",
          "name": "stdout",
          "text": [
            "260\n"
          ]
        }
      ]
    },
    {
      "cell_type": "code",
      "source": [
        "a=15\n",
        "print(a>>1)"
      ],
      "metadata": {
        "colab": {
          "base_uri": "https://localhost:8080/"
        },
        "id": "Itt84IN3nCWo",
        "outputId": "fcb889b1-0672-40ec-d830-6551087f8d82"
      },
      "execution_count": null,
      "outputs": [
        {
          "output_type": "stream",
          "name": "stdout",
          "text": [
            "7\n"
          ]
        }
      ]
    },
    {
      "cell_type": "code",
      "source": [
        "a=10\n",
        "b=5\n",
        "if(a>b) && (a==b):\n",
        "print(\"success\")\n",
        "else:print(\"fail\")"
      ],
      "metadata": {
        "colab": {
          "base_uri": "https://localhost:8080/",
          "height": 106
        },
        "id": "1-xWTwUcqfHV",
        "outputId": "05c31b16-06cb-4b5c-f355-e9a38f4a1169"
      },
      "execution_count": null,
      "outputs": [
        {
          "output_type": "error",
          "ename": "SyntaxError",
          "evalue": "invalid syntax (<ipython-input-14-da73150f9844>, line 3)",
          "traceback": [
            "\u001b[0;36m  File \u001b[0;32m\"<ipython-input-14-da73150f9844>\"\u001b[0;36m, line \u001b[0;32m3\u001b[0m\n\u001b[0;31m    if(a>b) && (a==b):\u001b[0m\n\u001b[0m             ^\u001b[0m\n\u001b[0;31mSyntaxError\u001b[0m\u001b[0;31m:\u001b[0m invalid syntax\n"
          ]
        }
      ]
    },
    {
      "cell_type": "code",
      "source": [],
      "metadata": {
        "id": "JOSyxTFOuGH8"
      },
      "execution_count": null,
      "outputs": []
    },
    {
      "cell_type": "markdown",
      "source": [
        "Write a program to use input function and take 2 variables store numbers in them and use arithmetic functions."
      ],
      "metadata": {
        "id": "bSZXjZWNufsN"
      }
    },
    {
      "cell_type": "code",
      "source": [
        "a=int(input(\"enter your first number\"))\n",
        "b=int(input(\"enter your second number\"))\n",
        "askk=input(\"enter your operation\")\n",
        "print(eval(str(a) + askk + str(b)))"
      ],
      "metadata": {
        "colab": {
          "base_uri": "https://localhost:8080/"
        },
        "id": "GE9a4uqDvEJi",
        "outputId": "aef77495-c929-46b5-c8f6-4b9fda1bed9e"
      },
      "execution_count": null,
      "outputs": [
        {
          "output_type": "stream",
          "name": "stdout",
          "text": [
            "enter your first number2\n",
            "enter your second number3\n",
            "enter your operation**\n",
            "8\n"
          ]
        }
      ]
    },
    {
      "cell_type": "code",
      "source": [
        "\n",
        "import math\n",
        "radius = float(input(\"Enter the radius of the circle: \"))\n",
        "area = math.pi * radius ** 2\n",
        "print(f\"The area of the circle with radius {radius} is: {area:.2f}\")\n"
      ],
      "metadata": {
        "id": "77flq45BvQYP",
        "colab": {
          "base_uri": "https://localhost:8080/"
        },
        "outputId": "e418c266-ea6a-4c82-8122-2019b44ba468"
      },
      "execution_count": null,
      "outputs": [
        {
          "output_type": "stream",
          "name": "stdout",
          "text": [
            "Enter the radius of the circle: 3\n",
            "The area of the circle with radius 3.0 is: 28.27\n"
          ]
        }
      ]
    },
    {
      "cell_type": "code",
      "source": [
        "import math\n",
        "a = float(input(\"Enter the length of side a: \"))\n",
        "b = float(input(\"Enter the length of side b: \"))\n",
        "c = math.sqrt(a**2 + b**2)\n",
        "print(f\"The length of the hypotenuse is: {c:.2f}\")\n"
      ],
      "metadata": {
        "colab": {
          "base_uri": "https://localhost:8080/"
        },
        "id": "UiC1wW4tTYut",
        "outputId": "06112e69-06a9-4f64-c7ad-0ad5e7304e9b"
      },
      "execution_count": null,
      "outputs": [
        {
          "output_type": "stream",
          "name": "stdout",
          "text": [
            "Enter the length of side a: 4\n",
            "Enter the length of side b: 8\n",
            "The length of the hypotenuse is: 8.94\n"
          ]
        }
      ]
    },
    {
      "cell_type": "code",
      "source": [
        "\n",
        "P = float(input(\"Enter the principal amount (P): \"))\n",
        "R = float(input(\"Enter the annual rate of interest (R in %): \"))\n",
        "T = float(input(\"Enter the time (T in years): \"))\n",
        "\n",
        "SI = (P * R * T) / 100\n",
        "\n",
        "print(f\"The Simple Interest is: {SI:.2f}\")\n"
      ],
      "metadata": {
        "colab": {
          "base_uri": "https://localhost:8080/"
        },
        "id": "bCDOwWC3TyBP",
        "outputId": "ffdaac80-fe14-48d6-b243-f150f23f924d"
      },
      "execution_count": null,
      "outputs": [
        {
          "output_type": "stream",
          "name": "stdout",
          "text": [
            "Enter the principal amount (P): 5000\n",
            "Enter the annual rate of interest (R in %): 12\n",
            "Enter the time (T in years): 10\n",
            "The Simple Interest is: 6000.00\n"
          ]
        }
      ]
    },
    {
      "cell_type": "code",
      "source": [
        "import math\n",
        "\n",
        "a = float(input(\"Enter the length of side a: \"))\n",
        "b = float(input(\"Enter the length of side b: \"))\n",
        "c = float(input(\"Enter the length of side c: \"))\n",
        "\n",
        "s = (a + b + c) / 2\n",
        "area = math.sqrt(s * (s - a) * (s - b) * (s - c))\n",
        "\n",
        "print(f\"The area of the triangle is: {area:.2f}\")\n"
      ],
      "metadata": {
        "colab": {
          "base_uri": "https://localhost:8080/"
        },
        "id": "Ch8EHhPbUG2V",
        "outputId": "4ee49c0b-5b92-41dc-c61a-d7aaf03532f2"
      },
      "execution_count": null,
      "outputs": [
        {
          "output_type": "stream",
          "name": "stdout",
          "text": [
            "Enter the length of side a: 31\n",
            "Enter the length of side b: 36\n",
            "Enter the length of side c: 38\n",
            "The area of the triangle is: 519.67\n"
          ]
        }
      ]
    },
    {
      "cell_type": "code",
      "source": [
        "seconds = int(input(\"Enter the total seconds: \"))\n",
        "hours = seconds // 3600\n",
        "minutes = (seconds % 3600) // 60\n",
        "remaining_seconds = seconds % 60\n",
        "\n",
        "print(f\"{seconds} seconds is equal to {hours} hours, {minutes} minutes, and {remaining_seconds} seconds.\")\n"
      ],
      "metadata": {
        "colab": {
          "base_uri": "https://localhost:8080/"
        },
        "id": "dTVbXWj1UkBF",
        "outputId": "2bda45f2-2817-4c1f-dacf-082e2eb5cc13"
      },
      "execution_count": null,
      "outputs": [
        {
          "output_type": "stream",
          "name": "stdout",
          "text": [
            "Enter the total seconds: 3600\n",
            "3600 seconds is equal to 1 hours, 0 minutes, and 0 seconds.\n"
          ]
        }
      ]
    },
    {
      "cell_type": "code",
      "source": [
        "x = int(input(\"Enter the first number (x): \"))\n",
        "y = int(input(\"Enter the second number (y): \"))\n",
        "x, y = y, x\n",
        "\n",
        "print(f\"After swapping, x = {x} and y = {y}\")\n"
      ],
      "metadata": {
        "colab": {
          "base_uri": "https://localhost:8080/"
        },
        "id": "Zn2T5cr5U6sR",
        "outputId": "70fdf7ff-85dd-4bd4-cbac-f7c8160574af"
      },
      "execution_count": null,
      "outputs": [
        {
          "output_type": "stream",
          "name": "stdout",
          "text": [
            "Enter the first number (x): 24\n",
            "Enter the second number (y): 36\n",
            "After swapping, x = 36 and y = 24\n"
          ]
        }
      ]
    },
    {
      "cell_type": "code",
      "source": [
        "n = int(input(\"Enter a number (n): \"))\n",
        "sum_natural = n * (n + 1) // 2\n",
        "\n",
        "print(f\"The sum of the first {n} natural numbers is: {sum_natural}\")\n"
      ],
      "metadata": {
        "colab": {
          "base_uri": "https://localhost:8080/"
        },
        "id": "g8QHzoSSVMEP",
        "outputId": "8fda8dac-cb8b-45e2-8ec1-e01705c0281e"
      },
      "execution_count": null,
      "outputs": [
        {
          "output_type": "stream",
          "name": "stdout",
          "text": [
            "Enter a number (n): 20\n",
            "The sum of the first 20 natural numbers is: 210\n"
          ]
        }
      ]
    },
    {
      "cell_type": "code",
      "source": [
        "print(\"A\\tB\\tA & B\\tA | B\\tA ^ B\")\n",
        "for A in [0, 1]:\n",
        " for B in [0, 1]:\n",
        "  print(f\"{A}\\t{B}\\t{A & B}\\t{A | B}\\t{A ^ B}\")\n"
      ],
      "metadata": {
        "colab": {
          "base_uri": "https://localhost:8080/"
        },
        "id": "eToWJpf-VWbd",
        "outputId": "5801d672-c470-4e88-9fc5-d10d89e858fa"
      },
      "execution_count": null,
      "outputs": [
        {
          "output_type": "stream",
          "name": "stdout",
          "text": [
            "A\tB\tA & B\tA | B\tA ^ B\n",
            "0\t0\t0\t0\t0\n",
            "0\t1\t0\t1\t1\n",
            "1\t0\t0\t1\t1\n",
            "1\t1\t1\t1\t0\n"
          ]
        }
      ]
    },
    {
      "cell_type": "code",
      "source": [
        "num = int(input(\"Enter a number: \"))\n",
        "shift = int(input(\"Enter the number of positions to shift: \"))\n",
        "left_shift = num << shift\n",
        "right_shift = num >> shift\n",
        "\n",
        "print(f\"Left shift by {shift} positions: {left_shift}\")\n",
        "print(f\"Right shift by {shift} positions: {right_shift}\")\n"
      ],
      "metadata": {
        "colab": {
          "base_uri": "https://localhost:8080/"
        },
        "id": "D6v5PPdhVlDW",
        "outputId": "85710c28-d033-4b63-bb50-42885b30a0c6"
      },
      "execution_count": null,
      "outputs": [
        {
          "output_type": "stream",
          "name": "stdout",
          "text": [
            "Enter a number: 20\n",
            "Enter the number of positions to shift: 1\n",
            "Left shift by 1 positions: 40\n",
            "Right shift by 1 positions: 10\n"
          ]
        }
      ]
    },
    {
      "cell_type": "code",
      "source": [
        "num = int(input(\"Enter a number: \"))\n",
        "sequence = (10, 20, 56, 78, 89)\n",
        "if num in sequence:\n",
        "    print(f\"{num} is in the sequence.\")\n",
        "else:\n",
        "    print(f\"{num} is not in the sequence.\")\n"
      ],
      "metadata": {
        "colab": {
          "base_uri": "https://localhost:8080/"
        },
        "id": "GLF96WLLV5S0",
        "outputId": "795e06f4-6c2f-4646-d631-03276f605615"
      },
      "execution_count": null,
      "outputs": [
        {
          "output_type": "stream",
          "name": "stdout",
          "text": [
            "Enter a number: 20\n",
            "20 is in the sequence.\n"
          ]
        }
      ]
    },
    {
      "cell_type": "code",
      "source": [
        "char = input(\"Enter a character: \")\n",
        "string = \"Hello, Python!\"\n",
        "if char in string:\n",
        "    print(f\"The character '{char}' is in the string.\")\n",
        "else:\n",
        "    print(f\"The character '{char}' is not in the string.\")\n"
      ],
      "metadata": {
        "colab": {
          "base_uri": "https://localhost:8080/"
        },
        "id": "EM-kRQEVWIW0",
        "outputId": "2b21b641-17a8-49ad-91b1-1718cbb340e0"
      },
      "execution_count": null,
      "outputs": [
        {
          "output_type": "stream",
          "name": "stdout",
          "text": [
            "Enter a character: P\n",
            "The character 'P' is in the string.\n"
          ]
        }
      ]
    },
    {
      "cell_type": "code",
      "source": [
        "num=int(input(\"Enter a number\"))\n",
        "if num%3==0 and num%5==0:\n",
        "   print(\"The number is divisible by 3 and 5\")\n",
        "else:\n",
        "   print(\"The number is not divisible by 3 and 5\")"
      ],
      "metadata": {
        "colab": {
          "base_uri": "https://localhost:8080/"
        },
        "id": "HmNYfUZsqCih",
        "outputId": "b1187ece-9af3-4f87-9ec6-c626f13508ad"
      },
      "execution_count": null,
      "outputs": [
        {
          "output_type": "stream",
          "name": "stdout",
          "text": [
            "Enter a number45\n",
            "The number is divisible by 3 and 5\n"
          ]
        }
      ]
    },
    {
      "cell_type": "code",
      "source": [
        "num=int(input(\"Enter a number\"))\n",
        "if num%5==0:\n",
        "   print(\"The number is a multiple of 5\")\n",
        "else:\n",
        "   print(\"The number is not a multiple of 5\")"
      ],
      "metadata": {
        "colab": {
          "base_uri": "https://localhost:8080/"
        },
        "id": "zCcW-JxSreSn",
        "outputId": "fb75ba4e-97c2-449a-d22f-1dbf3adf4104"
      },
      "execution_count": null,
      "outputs": [
        {
          "output_type": "stream",
          "name": "stdout",
          "text": [
            "Enter a number45\n",
            "The number is a multiple of 5\n"
          ]
        }
      ]
    },
    {
      "cell_type": "code",
      "source": [
        "num1=int(input(\"Enter first number\"))\n",
        "num2=int(input(\"Enter second number\"))\n",
        "if num1>num2:\n",
        "    print(\"num1 is greater\")\n",
        "elif num2>num1:\n",
        "    print(\"num2 is greater\")\n",
        "else:\n",
        "     print(\"both are equal\")"
      ],
      "metadata": {
        "colab": {
          "base_uri": "https://localhost:8080/"
        },
        "id": "Z8aEI4qTs9GX",
        "outputId": "bda7aa68-cc2f-49fa-84c0-69e70e7112cc"
      },
      "execution_count": null,
      "outputs": [
        {
          "output_type": "stream",
          "name": "stdout",
          "text": [
            "Enter first number5\n",
            "Enter second number5\n",
            "both are equal\n"
          ]
        }
      ]
    },
    {
      "cell_type": "code",
      "source": [
        "num1=int(input(\"Enter first number\"))\n",
        "num2=int(input(\"Enter second number\"))\n",
        "num3=int(input(\"Enter third number\"))\n",
        "if num1 > num2 and num1 > num3 or num2>num1 and num2>num3 or num3>num1 and num3>num2:\n",
        "    print(\"The largest number is\",max (num1, num2, num3))\n"
      ],
      "metadata": {
        "colab": {
          "base_uri": "https://localhost:8080/"
        },
        "id": "DcjfGD_6vT0Z",
        "outputId": "8a4d46ea-15e6-452f-a854-0074479db13c"
      },
      "execution_count": null,
      "outputs": [
        {
          "output_type": "stream",
          "name": "stdout",
          "text": [
            "Enter first number12\n",
            "Enter second number13\n",
            "Enter third number15\n",
            "The largest number is 15\n"
          ]
        }
      ]
    },
    {
      "cell_type": "code",
      "source": [
        "a=int(input(\"Enter a\"))\n",
        "b=int(input(\"Enter b\"))\n",
        "c=int(input(\"Enter c\"))\n",
        "discriminant =int(b**2 - 4*a*c)\n",
        "if discriminant > 0:\n",
        "  print(\"The equation has real roots.\")\n",
        "  root1 = (-b + (discriminant)**1/2) / (2*a)\n",
        "  root2 = (-b - (discriminant))**1/2 (2*a)\n",
        "  print(root1,root2)\n",
        "elif  discriminant <0:\n",
        "  print(\"The equation has immaginary roots\")\n",
        "  root1 = (-b + (discriminant))**1/2 / (2*a)\n",
        "  root2 = (-b - (discriminant))**1/2 / (2*a)\n",
        "  print(root1,root2)\n",
        "\n",
        "else:\n",
        "  print(\"nothing\")\n"
      ],
      "metadata": {
        "colab": {
          "base_uri": "https://localhost:8080/"
        },
        "id": "9VqTG6TIxhyV",
        "outputId": "8b46c2ba-39b0-4791-adef-a7eee84fdd63"
      },
      "execution_count": null,
      "outputs": [
        {
          "output_type": "stream",
          "name": "stderr",
          "text": [
            "<>:8: SyntaxWarning: 'int' object is not callable; perhaps you missed a comma?\n",
            "<>:8: SyntaxWarning: 'int' object is not callable; perhaps you missed a comma?\n"
          ]
        },
        {
          "output_type": "stream",
          "name": "stdout",
          "text": [
            "Enter a5\n",
            "Enter b3\n",
            "Enter c5\n",
            "The equation has immaginary roots\n",
            "-4.7 4.4\n"
          ]
        },
        {
          "output_type": "stream",
          "name": "stderr",
          "text": [
            "<ipython-input-31-36ba2b36c746>:8: SyntaxWarning: 'int' object is not callable; perhaps you missed a comma?\n",
            "  root2 = (-b - (discriminant))**1/2 (2*a)\n"
          ]
        }
      ]
    },
    {
      "cell_type": "code",
      "source": [
        "Y=int(input(\"Enter your year\"))\n",
        "if Y%4==0:\n",
        "  print(\"The year is a leap year\")\n",
        "else:\n",
        "  print(\"The year is not a leap year\")"
      ],
      "metadata": {
        "id": "LpontN7b9KUQ",
        "colab": {
          "base_uri": "https://localhost:8080/"
        },
        "outputId": "2ee65b7e-7c13-4633-daea-594673f826ac"
      },
      "execution_count": null,
      "outputs": [
        {
          "output_type": "stream",
          "name": "stdout",
          "text": [
            "Enter your year2006\n",
            "The year is not a leap year\n"
          ]
        }
      ]
    },
    {
      "cell_type": "code",
      "source": [
        "a=int(input(\"Enter date\"))\n",
        "b=int(input(\"Enter month\"))\n",
        "c=int(input(\"Enter year\"))\n",
        "if"
      ],
      "metadata": {
        "id": "oMSy-T_cSq2z"
      },
      "execution_count": null,
      "outputs": []
    },
    {
      "cell_type": "code",
      "source": [
        "print(\"---------------------------\")\\\n",
        "name=input(\"Enter the name :\")\n",
        "roll=input(\"Enter the roll :\")\n",
        "sap=input(\"Enter the SAP ID :\")\n",
        "sem=1\n",
        "course = \"Btech CSE\"\n",
        "print(\"Enter marks of five subjects\")\n",
        "pds=float(input(\"Enter marks of PDS :\"))\n",
        "pyth=float(input(\"Enter marks of Python :\"))\n",
        "chem=float(input(\"Enter marks of Chemistry :\"))\n",
        "eng=float(input(\"Enter marks of English :\"))\n",
        "phy=float(input(\"Enter marks of Physics :\"))\n",
        "if pds<100 or pyth<100 or chem<100 or eng<100 or phy<100 :\n",
        "    per=((pds+pyth+chem+eng+phy)/500)*100\n",
        "    cgpa = per/10\n",
        "    if cgpa>=0 and cgpa<3.5 :\n",
        "        grade= \"F\"\n",
        "    elif cgpa>=3.5 and cgpa<=5.0 :\n",
        "        grade= \"C+\"\n",
        "    elif cgpa>=5.1 and cgpa<=6.0 :\n",
        "        grade = \"B\"\n",
        "    elif cgpa>=6.1 and cgpa<=7.0 :\n",
        "        grade=\"B+\"\n",
        "    elif cgpa>=7.1 and cgpa<=8.0 :\n",
        "        grade=\"A\"\n",
        "    elif cgpa>=8.1 and cgpa<9.0 :\n",
        "        grade=\"A+\"\n",
        "    else :\n",
        "        grade=\"O\"\n",
        "    print(\"SAMPLE GRADESHEET\")\n",
        "    print(\"Name : \",name)\n",
        "    print(\"Roll no :\",roll)\n",
        "    print(\"SAP ID :\",sap)\n",
        "    print(\"SEM :\",sem)\n",
        "    print(\"COURSE :\",course)\n",
        "    print(\"PDS :\",pds)\n",
        "    print(\"PYTHON :\",pyth)\n",
        "    print(\"CHEMISTRY :\",chem)\n",
        "    print(\"ENGLISH :\",eng)\n",
        "    print(\"PHYSICS :\",phy)\n",
        "    print(\"percentage : \" ,per)\n",
        "    print(\"CGPA : \" ,cgpa)\n",
        "    print(\"GRADE :\",grade)\n",
        "else:\n",
        "    print(\"Invalid input\")"
      ],
      "metadata": {
        "colab": {
          "base_uri": "https://localhost:8080/"
        },
        "id": "TmIothA0hikN",
        "outputId": "b9617ede-6d3a-4112-80d3-fc333875a199"
      },
      "execution_count": null,
      "outputs": [
        {
          "output_type": "stream",
          "name": "stdout",
          "text": [
            "---------------------------\n",
            "Enter the name :Mudit Tyagi\n",
            "Enter the roll :590014218\n",
            "Enter the SAP ID :590014218\n",
            "Enter marks of five subjects\n",
            "Enter marks of PDS :80\n",
            "Enter marks of Python :85\n",
            "Enter marks of Chemistry :85\n",
            "Enter marks of English :90\n",
            "Enter marks of Physics :98\n",
            "SAMPLE GRADESHEET\n",
            "Name :  Mudit Tyagi\n",
            "Roll no : 590014218\n",
            "SAP ID : 590014218\n",
            "SEM : 1\n",
            "COURSE : Btech CSE\n",
            "PDS : 80.0\n",
            "PYTHON : 85.0\n",
            "CHEMISTRY : 85.0\n",
            "ENGLISH : 90.0\n",
            "PHYSICS : 98.0\n",
            "percentage :  87.6\n",
            "CGPA :  8.76\n",
            "GRADE : A+\n"
          ]
        }
      ]
    },
    {
      "cell_type": "code",
      "source": [
        "sec_num=14\n",
        "guess_count=3\n",
        "counter=0\n",
        "while counter<guess_count:\n",
        "    num=int(input(\"ENter the Guess\"))\n",
        "    if num==sec_num:\n",
        "       print(\"success\")\n",
        "       break\n",
        "    else:\n",
        "        counter=counter+1\n",
        "        print(\"try again\")"
      ],
      "metadata": {
        "colab": {
          "base_uri": "https://localhost:8080/"
        },
        "id": "R5ZwukpIXQ6E",
        "outputId": "68d7f563-5734-4ee5-ace8-d9b8476c16aa"
      },
      "execution_count": null,
      "outputs": [
        {
          "output_type": "stream",
          "name": "stdout",
          "text": [
            "ENter the Guess5\n",
            "try again\n",
            "ENter the Guess14\n",
            "success\n"
          ]
        }
      ]
    },
    {
      "cell_type": "code",
      "source": [
        "command=\"\"\n",
        "while command! ='quit':\n",
        "    command=input(\"\")\n",
        "    if command=='start':\n",
        "      print(\"Car started\")\n",
        "    elif command=='stop':\n",
        "        print(\"Car stopped\")\n",
        "    elif command==''\n",
        "\n",
        "\n"
      ],
      "metadata": {
        "id": "WxtGSBPOYx7M"
      },
      "execution_count": null,
      "outputs": []
    },
    {
      "cell_type": "code",
      "source": [
        "num = int(input(\"Enter a number: \"))/\n",
        "if num < 2:\n",
        "    print(f\"{num} is not a prime number.\")\n",
        "else:\n",
        "    i = 2\n",
        "    is_prime = True\n",
        "    while i * i <= num:\n",
        "        if num % i == 0:\n",
        "            is_prime = False\n",
        "            break\n",
        "        i += 1\n",
        "    if is_prime:\n",
        "        print(f\"{num} is a prime number.\")\n",
        "    else:\n",
        "        print(f\"{num} is not a prime number.\")\n"
      ],
      "metadata": {
        "id": "bFSjtXEPb40k"
      },
      "execution_count": null,
      "outputs": []
    },
    {
      "cell_type": "code",
      "source": [
        "num = int(input(\"Enter a number: \"))\\\n",
        "original_num = num\n",
        "reversed_num = 0\n",
        "while num > 0:\n",
        "    digit = num % 10\n",
        "    reversed_num = reversed_num * 10 + digit\n",
        "    num //= 10\n",
        "if original_num == reversed_num:\n",
        "    print(f\"{original_num} is a palindrome.\")\n",
        "else:\n",
        "    print(f\"{original_num} is not a palindrome.\")\n"
      ],
      "metadata": {
        "id": "oO1mTaWncqAp"
      },
      "execution_count": null,
      "outputs": []
    },
    {
      "cell_type": "code",
      "source": [
        "num = int(input(\"Enter a number: \"))\\\n",
        "sum_of_digits = 0\n",
        "while num > 0:\n",
        "    digit = num % 10\n",
        "    sum_of_digits += digit\n",
        "    num //= 10\n",
        "print(f\"The sum of digits is {sum_of_digits}.\")\n"
      ],
      "metadata": {
        "id": "kuyS4zAhdMhG"
      },
      "execution_count": null,
      "outputs": []
    },
    {
      "cell_type": "code",
      "source": [
        "i = 1\\\n",
        "count = 0\n",
        "while i <= 100:\n",
        "    if i % 5 == 0 or i % 7 == 0:\n",
        "        print(i, end=\" \")\n",
        "        count += 1\n",
        "    i += 1\n",
        "print(f\"\\nCount of numbers divisible by 5 or 7: {count}\")\n"
      ],
      "metadata": {
        "id": "M64vgVSOdjnY"
      },
      "execution_count": null,
      "outputs": []
    },
    {
      "cell_type": "code",
      "source": [
        "string = input(\"Enter a string: \")\n",
        "i = 0\n",
        "result = \"\"\n",
        "while i < len(string):\n",
        "    char = string[i]\n",
        "    if 'a' <= char <= 'z':\n",
        "        char = chr(ord(char) - 32)\n",
        "    result += char\n",
        "    i += 1\n",
        "print(f\"Converted string: {result}\")\n"
      ],
      "metadata": {
        "colab": {
          "base_uri": "https://localhost:8080/"
        },
        "id": "kXSyfhW1eEVZ",
        "outputId": "71c9dbf8-15da-4dde-e800-ac49cbc0ded9"
      },
      "execution_count": null,
      "outputs": [
        {
          "output_type": "stream",
          "name": "stdout",
          "text": [
            "Enter a string: My name is Mudit\n",
            "Converted string: MY NAME IS MUDIT\n"
          ]
        }
      ]
    },
    {
      "cell_type": "code",
      "source": [
        "i = 2\\\n",
        "while i <= 100:\n",
        "    is_prime = True\n",
        "    j = 2\n",
        "    while j * j <= i:\n",
        "        if i % j == 0:\n",
        "            is_prime = False\n",
        "            break\n",
        "        j += 1\n",
        "    if is_prime:\n",
        "        print(i, end=\" \")\n",
        "    i += 1\n"
      ],
      "metadata": {
        "id": "h68T_fDlfpbU"
      },
      "execution_count": null,
      "outputs": []
    },
    {
      "cell_type": "code",
      "source": [
        "num = int(input(\"Enter a number: \"))\\\n",
        "i = 1\n",
        "while i <= 10:\n",
        "    print(f\"{num} * {i} = {num * i}\")\n",
        "    i += 1\n"
      ],
      "metadata": {
        "id": "iWn2PQkjh_hj"
      },
      "execution_count": null,
      "outputs": []
    },
    {
      "cell_type": "code",
      "source": [
        "num = int(input(\"Enter a number: \"))\\\n",
        "factorial = 1\n",
        "i = 1\n",
        "while i <= num:\n",
        "    factorial *= i\n",
        "    i += 1\n",
        "print(f\"The factorial of {num} is {factorial}.\")\n"
      ],
      "metadata": {
        "id": "3ole32BfiWZ5"
      },
      "execution_count": null,
      "outputs": []
    },
    {
      "cell_type": "code",
      "source": [
        "s1='Welcome'\n",
        "for i in s1:\n",
        "  print(i)\n",
        "  if i==l:\n",
        "     continue"
      ],
      "metadata": {
        "colab": {
          "base_uri": "https://localhost:8080/",
          "height": 211
        },
        "id": "jENNerXzvM0R",
        "outputId": "0899fd2e-ead7-410c-a5cc-faf76246b4c6"
      },
      "execution_count": null,
      "outputs": [
        {
          "output_type": "stream",
          "name": "stdout",
          "text": [
            "W\n"
          ]
        },
        {
          "output_type": "error",
          "ename": "NameError",
          "evalue": "name 'l' is not defined",
          "traceback": [
            "\u001b[0;31m---------------------------------------------------------------------------\u001b[0m",
            "\u001b[0;31mNameError\u001b[0m                                 Traceback (most recent call last)",
            "\u001b[0;32m<ipython-input-5-63f0eb7d37cd>\u001b[0m in \u001b[0;36m<cell line: 0>\u001b[0;34m()\u001b[0m\n\u001b[1;32m      2\u001b[0m \u001b[0;32mfor\u001b[0m \u001b[0mi\u001b[0m \u001b[0;32min\u001b[0m \u001b[0ms1\u001b[0m\u001b[0;34m:\u001b[0m\u001b[0;34m\u001b[0m\u001b[0;34m\u001b[0m\u001b[0m\n\u001b[1;32m      3\u001b[0m   \u001b[0mprint\u001b[0m\u001b[0;34m(\u001b[0m\u001b[0mi\u001b[0m\u001b[0;34m)\u001b[0m\u001b[0;34m\u001b[0m\u001b[0;34m\u001b[0m\u001b[0m\n\u001b[0;32m----> 4\u001b[0;31m   \u001b[0;32mif\u001b[0m \u001b[0mi\u001b[0m\u001b[0;34m==\u001b[0m\u001b[0ml\u001b[0m\u001b[0;34m:\u001b[0m\u001b[0;34m\u001b[0m\u001b[0;34m\u001b[0m\u001b[0m\n\u001b[0m\u001b[1;32m      5\u001b[0m      \u001b[0;32mcontinue\u001b[0m\u001b[0;34m\u001b[0m\u001b[0;34m\u001b[0m\u001b[0m\n",
            "\u001b[0;31mNameError\u001b[0m: name 'l' is not defined"
          ]
        }
      ]
    },
    {
      "cell_type": "code",
      "source": [
        "s1='Welcome'\n",
        "l1=[1,2,3,4,5]\n",
        "for i in s1:\n",
        "  for j in l1:\n",
        "    print(i,j)\n"
      ],
      "metadata": {
        "colab": {
          "base_uri": "https://localhost:8080/"
        },
        "id": "k0UxeEXLv4-H",
        "outputId": "ed322a93-0f1e-44f2-a787-18f2b1bb0588"
      },
      "execution_count": null,
      "outputs": [
        {
          "output_type": "stream",
          "name": "stdout",
          "text": [
            "W 1\n",
            "W 2\n",
            "W 3\n",
            "W 4\n",
            "W 5\n",
            "e 1\n",
            "e 2\n",
            "e 3\n",
            "e 4\n",
            "e 5\n",
            "l 1\n",
            "l 2\n",
            "l 3\n",
            "l 4\n",
            "l 5\n",
            "c 1\n",
            "c 2\n",
            "c 3\n",
            "c 4\n",
            "c 5\n",
            "o 1\n",
            "o 2\n",
            "o 3\n",
            "o 4\n",
            "o 5\n",
            "m 1\n",
            "m 2\n",
            "m 3\n",
            "m 4\n",
            "m 5\n",
            "e 1\n",
            "e 2\n",
            "e 3\n",
            "e 4\n",
            "e 5\n"
          ]
        }
      ]
    },
    {
      "cell_type": "code",
      "source": [
        "n=int(input(\"Enter a number\"))\n",
        "s=1\n",
        "if n<0:\n",
        "  print(\"factorial dos not exist for negative numbers\")\n",
        "elif n==0:\n",
        "  print(\"The factorial is:\",1)\n",
        "else:\n",
        "  for i in range(1, n + 1):\n",
        "     s*= i\n",
        "print(f\"The factorial of {n} is {(s)}\")\n"
      ],
      "metadata": {
        "colab": {
          "base_uri": "https://localhost:8080/"
        },
        "id": "kC8IhqVrxR0t",
        "outputId": "efc304d3-f894-4ca2-c0cd-55badb4d214a"
      },
      "execution_count": null,
      "outputs": [
        {
          "output_type": "stream",
          "name": "stdout",
          "text": [
            "Enter a number5\n",
            "The factorial of 5 is 120\n"
          ]
        }
      ]
    },
    {
      "cell_type": "code",
      "source": [
        "terms=int(input(\"Enter the number of terms: \"))\n",
        "a,b=0,1\n",
        "count=0\n",
        "for i in range(terms):\n",
        "  print(a,end=\" \")\n",
        "  c=a+b\n",
        "  a=b\n",
        "  b=c\n",
        "  count+=1"
      ],
      "metadata": {
        "colab": {
          "base_uri": "https://localhost:8080/"
        },
        "id": "N6Gy0kCi1EL2",
        "outputId": "91a19927-5ab1-4d21-ed93-c891a364fbef"
      },
      "execution_count": null,
      "outputs": [
        {
          "output_type": "stream",
          "name": "stdout",
          "text": [
            "Enter the number of terms: 5\n",
            "0 1 1 2 3 "
          ]
        }
      ]
    },
    {
      "cell_type": "markdown",
      "source": [
        "LIST : [1,2,3,4,5]\n",
        "       -5-4-3-2-1"
      ],
      "metadata": {
        "id": "4lAjIo8tYrhk"
      }
    },
    {
      "cell_type": "code",
      "source": [
        "L1=[1,2,3,4,5]\n",
        "print(L1[2:3 ])"
      ],
      "metadata": {
        "colab": {
          "base_uri": "https://localhost:8080/"
        },
        "id": "UDYYOurUYqIA",
        "outputId": "89e94a73-9367-4375-be36-49ef109af06b"
      },
      "execution_count": null,
      "outputs": [
        {
          "output_type": "stream",
          "name": "stdout",
          "text": [
            "[3]\n"
          ]
        }
      ]
    },
    {
      "cell_type": "code",
      "source": [
        "L2=[1,\"Sayed\",True,75,\"Sayed\"]\n",
        "L2.append(\"Mudit\")\n",
        "print(L2)\n",
        "L2.insert(2,\"Mudit\")\n",
        "print(L2)\n",
        "L2.extend([\"Mudit\"])\n",
        "print(L2)\n",
        "L2.remove(\"Mudit\")\n",
        "print(L2)\n",
        "L2.pop(2)\n",
        "print(L2)\n",
        "L2.update(3,\"Kali\")"
      ],
      "metadata": {
        "colab": {
          "base_uri": "https://localhost:8080/",
          "height": 263
        },
        "id": "HRXe19yecjFy",
        "outputId": "43ac617f-b720-4a60-874e-529415e9f531"
      },
      "execution_count": null,
      "outputs": [
        {
          "output_type": "stream",
          "name": "stdout",
          "text": [
            "[1, 'Sayed', True, 75, 'Sayed', 'Mudit']\n",
            "[1, 'Sayed', 'Mudit', True, 75, 'Sayed', 'Mudit']\n",
            "[1, 'Sayed', 'Mudit', True, 75, 'Sayed', 'Mudit', 'Mudit']\n",
            "[1, 'Sayed', True, 75, 'Sayed', 'Mudit', 'Mudit']\n",
            "[1, 'Sayed', 75, 'Sayed', 'Mudit', 'Mudit']\n"
          ]
        },
        {
          "output_type": "error",
          "ename": "AttributeError",
          "evalue": "'list' object has no attribute 'update'",
          "traceback": [
            "\u001b[0;31m---------------------------------------------------------------------------\u001b[0m",
            "\u001b[0;31mAttributeError\u001b[0m                            Traceback (most recent call last)",
            "\u001b[0;32m<ipython-input-5-40b948fd3609>\u001b[0m in \u001b[0;36m<cell line: 0>\u001b[0;34m()\u001b[0m\n\u001b[1;32m     10\u001b[0m \u001b[0mL2\u001b[0m\u001b[0;34m.\u001b[0m\u001b[0mpop\u001b[0m\u001b[0;34m(\u001b[0m\u001b[0;36m2\u001b[0m\u001b[0;34m)\u001b[0m\u001b[0;34m\u001b[0m\u001b[0;34m\u001b[0m\u001b[0m\n\u001b[1;32m     11\u001b[0m \u001b[0mprint\u001b[0m\u001b[0;34m(\u001b[0m\u001b[0mL2\u001b[0m\u001b[0;34m)\u001b[0m\u001b[0;34m\u001b[0m\u001b[0;34m\u001b[0m\u001b[0m\n\u001b[0;32m---> 12\u001b[0;31m \u001b[0mL2\u001b[0m\u001b[0;34m.\u001b[0m\u001b[0mupdate\u001b[0m\u001b[0;34m(\u001b[0m\u001b[0;36m3\u001b[0m\u001b[0;34m,\u001b[0m\u001b[0;34m\"Kali\"\u001b[0m\u001b[0;34m)\u001b[0m\u001b[0;34m\u001b[0m\u001b[0;34m\u001b[0m\u001b[0m\n\u001b[0m",
            "\u001b[0;31mAttributeError\u001b[0m: 'list' object has no attribute 'update'"
          ]
        }
      ]
    },
    {
      "cell_type": "code",
      "source": [
        "L1=[]\n",
        "for i in range"
      ],
      "metadata": {
        "id": "B27-Sk1XfQ9r"
      },
      "execution_count": null,
      "outputs": []
    },
    {
      "cell_type": "code",
      "source": [
        "l1=[i for i in range(1000) or i%3==0 or i%5==0 or i%7==0]\n",
        "print(l1)\n",
        "\n"
      ],
      "metadata": {
        "colab": {
          "base_uri": "https://localhost:8080/"
        },
        "id": "PJaJuk_oxPCU",
        "outputId": "2bd059a6-09b6-4713-b558-aaf24b9052f7"
      },
      "execution_count": null,
      "outputs": [
        {
          "output_type": "stream",
          "name": "stdout",
          "text": [
            "[0, 1, 2, 3, 4, 5, 6, 7, 8, 9, 10, 11, 12, 13, 14, 15, 16, 17, 18, 19, 20, 21, 22, 23, 24, 25, 26, 27, 28, 29, 30, 31, 32, 33, 34, 35, 36, 37, 38, 39, 40, 41, 42, 43, 44, 45, 46, 47, 48, 49, 50, 51, 52, 53, 54, 55, 56, 57, 58, 59, 60, 61, 62, 63, 64, 65, 66, 67, 68, 69, 70, 71, 72, 73, 74, 75, 76, 77, 78, 79, 80, 81, 82, 83, 84, 85, 86, 87, 88, 89, 90, 91, 92, 93, 94, 95, 96, 97, 98, 99, 100, 101, 102, 103, 104, 105, 106, 107, 108, 109, 110, 111, 112, 113, 114, 115, 116, 117, 118, 119, 120, 121, 122, 123, 124, 125, 126, 127, 128, 129, 130, 131, 132, 133, 134, 135, 136, 137, 138, 139, 140, 141, 142, 143, 144, 145, 146, 147, 148, 149, 150, 151, 152, 153, 154, 155, 156, 157, 158, 159, 160, 161, 162, 163, 164, 165, 166, 167, 168, 169, 170, 171, 172, 173, 174, 175, 176, 177, 178, 179, 180, 181, 182, 183, 184, 185, 186, 187, 188, 189, 190, 191, 192, 193, 194, 195, 196, 197, 198, 199, 200, 201, 202, 203, 204, 205, 206, 207, 208, 209, 210, 211, 212, 213, 214, 215, 216, 217, 218, 219, 220, 221, 222, 223, 224, 225, 226, 227, 228, 229, 230, 231, 232, 233, 234, 235, 236, 237, 238, 239, 240, 241, 242, 243, 244, 245, 246, 247, 248, 249, 250, 251, 252, 253, 254, 255, 256, 257, 258, 259, 260, 261, 262, 263, 264, 265, 266, 267, 268, 269, 270, 271, 272, 273, 274, 275, 276, 277, 278, 279, 280, 281, 282, 283, 284, 285, 286, 287, 288, 289, 290, 291, 292, 293, 294, 295, 296, 297, 298, 299, 300, 301, 302, 303, 304, 305, 306, 307, 308, 309, 310, 311, 312, 313, 314, 315, 316, 317, 318, 319, 320, 321, 322, 323, 324, 325, 326, 327, 328, 329, 330, 331, 332, 333, 334, 335, 336, 337, 338, 339, 340, 341, 342, 343, 344, 345, 346, 347, 348, 349, 350, 351, 352, 353, 354, 355, 356, 357, 358, 359, 360, 361, 362, 363, 364, 365, 366, 367, 368, 369, 370, 371, 372, 373, 374, 375, 376, 377, 378, 379, 380, 381, 382, 383, 384, 385, 386, 387, 388, 389, 390, 391, 392, 393, 394, 395, 396, 397, 398, 399, 400, 401, 402, 403, 404, 405, 406, 407, 408, 409, 410, 411, 412, 413, 414, 415, 416, 417, 418, 419, 420, 421, 422, 423, 424, 425, 426, 427, 428, 429, 430, 431, 432, 433, 434, 435, 436, 437, 438, 439, 440, 441, 442, 443, 444, 445, 446, 447, 448, 449, 450, 451, 452, 453, 454, 455, 456, 457, 458, 459, 460, 461, 462, 463, 464, 465, 466, 467, 468, 469, 470, 471, 472, 473, 474, 475, 476, 477, 478, 479, 480, 481, 482, 483, 484, 485, 486, 487, 488, 489, 490, 491, 492, 493, 494, 495, 496, 497, 498, 499, 500, 501, 502, 503, 504, 505, 506, 507, 508, 509, 510, 511, 512, 513, 514, 515, 516, 517, 518, 519, 520, 521, 522, 523, 524, 525, 526, 527, 528, 529, 530, 531, 532, 533, 534, 535, 536, 537, 538, 539, 540, 541, 542, 543, 544, 545, 546, 547, 548, 549, 550, 551, 552, 553, 554, 555, 556, 557, 558, 559, 560, 561, 562, 563, 564, 565, 566, 567, 568, 569, 570, 571, 572, 573, 574, 575, 576, 577, 578, 579, 580, 581, 582, 583, 584, 585, 586, 587, 588, 589, 590, 591, 592, 593, 594, 595, 596, 597, 598, 599, 600, 601, 602, 603, 604, 605, 606, 607, 608, 609, 610, 611, 612, 613, 614, 615, 616, 617, 618, 619, 620, 621, 622, 623, 624, 625, 626, 627, 628, 629, 630, 631, 632, 633, 634, 635, 636, 637, 638, 639, 640, 641, 642, 643, 644, 645, 646, 647, 648, 649, 650, 651, 652, 653, 654, 655, 656, 657, 658, 659, 660, 661, 662, 663, 664, 665, 666, 667, 668, 669, 670, 671, 672, 673, 674, 675, 676, 677, 678, 679, 680, 681, 682, 683, 684, 685, 686, 687, 688, 689, 690, 691, 692, 693, 694, 695, 696, 697, 698, 699, 700, 701, 702, 703, 704, 705, 706, 707, 708, 709, 710, 711, 712, 713, 714, 715, 716, 717, 718, 719, 720, 721, 722, 723, 724, 725, 726, 727, 728, 729, 730, 731, 732, 733, 734, 735, 736, 737, 738, 739, 740, 741, 742, 743, 744, 745, 746, 747, 748, 749, 750, 751, 752, 753, 754, 755, 756, 757, 758, 759, 760, 761, 762, 763, 764, 765, 766, 767, 768, 769, 770, 771, 772, 773, 774, 775, 776, 777, 778, 779, 780, 781, 782, 783, 784, 785, 786, 787, 788, 789, 790, 791, 792, 793, 794, 795, 796, 797, 798, 799, 800, 801, 802, 803, 804, 805, 806, 807, 808, 809, 810, 811, 812, 813, 814, 815, 816, 817, 818, 819, 820, 821, 822, 823, 824, 825, 826, 827, 828, 829, 830, 831, 832, 833, 834, 835, 836, 837, 838, 839, 840, 841, 842, 843, 844, 845, 846, 847, 848, 849, 850, 851, 852, 853, 854, 855, 856, 857, 858, 859, 860, 861, 862, 863, 864, 865, 866, 867, 868, 869, 870, 871, 872, 873, 874, 875, 876, 877, 878, 879, 880, 881, 882, 883, 884, 885, 886, 887, 888, 889, 890, 891, 892, 893, 894, 895, 896, 897, 898, 899, 900, 901, 902, 903, 904, 905, 906, 907, 908, 909, 910, 911, 912, 913, 914, 915, 916, 917, 918, 919, 920, 921, 922, 923, 924, 925, 926, 927, 928, 929, 930, 931, 932, 933, 934, 935, 936, 937, 938, 939, 940, 941, 942, 943, 944, 945, 946, 947, 948, 949, 950, 951, 952, 953, 954, 955, 956, 957, 958, 959, 960, 961, 962, 963, 964, 965, 966, 967, 968, 969, 970, 971, 972, 973, 974, 975, 976, 977, 978, 979, 980, 981, 982, 983, 984, 985, 986, 987, 988, 989, 990, 991, 992, 993, 994, 995, 996, 997, 998, 999]\n"
          ]
        }
      ]
    },
    {
      "cell_type": "code",
      "source": [
        "T1=(1,2,3,4,5,6,7)\n",
        "T1[::-1]\n"
      ],
      "metadata": {
        "colab": {
          "base_uri": "https://localhost:8080/"
        },
        "id": "lLsirIsy10As",
        "outputId": "5cb8f57e-e8c5-4491-c387-c521788bd7d7"
      },
      "execution_count": null,
      "outputs": [
        {
          "output_type": "execute_result",
          "data": {
            "text/plain": [
              "(7, 6, 5, 4, 3, 2, 1)"
            ]
          },
          "metadata": {},
          "execution_count": 12
        }
      ]
    },
    {
      "cell_type": "code",
      "source": [
        "T1=(1,2,3,4,5,6)\n",
        "T2=('one','two','three','four','five','six')\n",
        "T3=T1+T2\n",
        "print(T3)\n",
        "T2[0][0]"
      ],
      "metadata": {
        "colab": {
          "base_uri": "https://localhost:8080/",
          "height": 53
        },
        "id": "Gip2DAcg1-Og",
        "outputId": "f8d6ae89-4580-4b16-90e7-d09b580644f6"
      },
      "execution_count": null,
      "outputs": [
        {
          "output_type": "stream",
          "name": "stdout",
          "text": [
            "(1, 2, 3, 4, 5, 6, 'one', 'two', 'three', 'four', 'five', 'six')\n"
          ]
        },
        {
          "output_type": "execute_result",
          "data": {
            "text/plain": [
              "'o'"
            ],
            "application/vnd.google.colaboratory.intrinsic+json": {
              "type": "string"
            }
          },
          "metadata": {},
          "execution_count": 14
        }
      ]
    },
    {
      "cell_type": "code",
      "source": [
        "set.1={5,6,10}\n"
      ],
      "metadata": {
        "id": "U06hlDRu3pJs"
      },
      "execution_count": null,
      "outputs": []
    },
    {
      "cell_type": "code",
      "source": [
        "armstrong_numbers = [num for num in range(100, 10000)if num == sum(int(digit) ** len(str(num)) for digit in str(num))]\n",
        "print(\"Armstrong numbers between 100 and 10000:\")\n",
        "print(armstrong_numbers)"
      ],
      "metadata": {
        "colab": {
          "base_uri": "https://localhost:8080/"
        },
        "id": "IE7ebb646ZlE",
        "outputId": "d5773aee-9854-447a-84b3-9249f474a9ef"
      },
      "execution_count": null,
      "outputs": [
        {
          "output_type": "stream",
          "name": "stdout",
          "text": [
            "Armstrong numbers between 100 and 10000:\n",
            "[153, 370, 371, 407, 1634, 8208, 9474]\n"
          ]
        }
      ]
    },
    {
      "cell_type": "code",
      "source": [
        "n = int(input(\"Enter the number of fruits per set (n): \"))\\\n",
        "s1=set()\n",
        "print(\"\\nEnter fruits for set s1:\")\n",
        "while len(s1) < n:\n",
        "    fruit = input(f\"Enter fruit {len(s1) + 1}: \")\n",
        "    if fruit:\n",
        "        s1.add(fruit)\n",
        "s2=set()\n",
        "print(\"\\nEnter fruits for set s2:\")\n",
        "while len(s2) < n:\n",
        "    fruit = input(f\"Enter fruit {len(s2) + 1}: \")\n",
        "    if fruit:\n",
        "        s2.add(fruit)\n",
        "print(\"\\na) Fruits common to both sets s1 and s2:\", s1 & s2)\n",
        "print(\"b) Fruits only in s1 but not in s2:\", s1 - s2)\n",
        "print(\"c) Count of all unique fruits from s1 and s2:\", len(s1 | s2))"
      ],
      "metadata": {
        "colab": {
          "base_uri": "https://localhost:8080/"
        },
        "id": "mo5VqzMVY2su",
        "outputId": "45e26614-e793-4ee9-f9f7-12d42c317aed"
      },
      "execution_count": null,
      "outputs": [
        {
          "output_type": "stream",
          "name": "stdout",
          "text": [
            "Enter the number of fruits per set (n): 2\n",
            "\n",
            "Enter fruits for set s1:\n",
            "Enter fruit 1: Banana\n",
            "Enter fruit 2: Kiwi\n",
            "\n",
            "Enter fruits for set s2:\n",
            "Enter fruit 1: Mango\n",
            "Enter fruit 2: Kiwi\n",
            "\n",
            "a) Fruits common to both sets s1 and s2: {'Kiwi'}\n",
            "b) Fruits only in s1 but not in s2: {'Banana'}\n",
            "c) Count of all unique fruits from s1 and s2: 3\n"
          ]
        }
      ]
    },
    {
      "cell_type": "code",
      "source": [
        "counts = [0] * 4\n",
        "n = int(input(\"Enter the number of values to scan: \"))\n",
        "for _ in range(n):\n",
        "    while True:\n",
        "        try:\n",
        "            value = int(input(\"Enter a value (0-3): \"))\n",
        "            if 0 <= value <= 3:\n",
        "                break\n",
        "            else:\n",
        "                print(\"Value out of range. Please enter a value between 0 and 3.\")\n",
        "        except ValueError:\n",
        "            print(\"Invalid input. Please enter an integer.\")\n",
        "counts[value] += 1\n",
        "for i in range(4):\n",
        "    print(f\"Number of times {i} occurred: {counts[i]}\")"
      ],
      "metadata": {
        "id": "poV82WrDkzo9"
      },
      "execution_count": null,
      "outputs": []
    },
    {
      "cell_type": "code",
      "source": [
        "Dict = {'Name':\"Mudit\",'Sap_id':\"590014218\",'Age':\"20\",'Address':\"Muzaffarnagar\"}\n",
        "Dict['Date']=\"12/02/2025\"\n",
        "print(Dict)\n",
        "Dict['Age']=\"19\"\n"
      ],
      "metadata": {
        "colab": {
          "base_uri": "https://localhost:8080/"
        },
        "id": "OkLo3tJExYwT",
        "outputId": "dbce4a8e-af72-4fd9-88db-8245e60537b0"
      },
      "execution_count": null,
      "outputs": [
        {
          "output_type": "stream",
          "name": "stdout",
          "text": [
            "{'Name': 'Mudit', 'Sap_id': '590014218', 'Age': '20', 'Address': 'Muzaffarnagar', 'Date': '12/02/2025'}\n"
          ]
        }
      ]
    },
    {
      "cell_type": "code",
      "source": [
        "d1=[1,2,3,4,5,6]\n",
        "d2=['A','B','C','D','E','F']\n",
        "dict_1={K:V for (K,V) in zip(d1,d2)}\n",
        "print(dict_1)\n",
        "my_str='Welcome t dictionary'\n",
        "dict_2={K:V.upper() for (K,V)in my_str}\n",
        "\n",
        "print(dict_2)"
      ],
      "metadata": {
        "colab": {
          "base_uri": "https://localhost:8080/",
          "height": 315
        },
        "id": "lxaHBjKuekK5",
        "outputId": "e2ff2882-06ae-4e0c-e100-48449e974074"
      },
      "execution_count": null,
      "outputs": [
        {
          "output_type": "stream",
          "name": "stdout",
          "text": [
            "{1: 'A', 2: 'B', 3: 'C', 4: 'D', 5: 'E', 6: 'F'}\n"
          ]
        },
        {
          "output_type": "error",
          "ename": "ValueError",
          "evalue": "not enough values to unpack (expected 2, got 1)",
          "traceback": [
            "\u001b[0;31m---------------------------------------------------------------------------\u001b[0m",
            "\u001b[0;31mValueError\u001b[0m                                Traceback (most recent call last)",
            "\u001b[0;32m<ipython-input-5-059a406cb886>\u001b[0m in \u001b[0;36m<cell line: 0>\u001b[0;34m()\u001b[0m\n\u001b[1;32m      4\u001b[0m \u001b[0mprint\u001b[0m\u001b[0;34m(\u001b[0m\u001b[0mdict_1\u001b[0m\u001b[0;34m)\u001b[0m\u001b[0;34m\u001b[0m\u001b[0;34m\u001b[0m\u001b[0m\n\u001b[1;32m      5\u001b[0m \u001b[0mmy_str\u001b[0m\u001b[0;34m=\u001b[0m\u001b[0;34m'Welcome t dictionary'\u001b[0m\u001b[0;34m\u001b[0m\u001b[0;34m\u001b[0m\u001b[0m\n\u001b[0;32m----> 6\u001b[0;31m \u001b[0mdict_2\u001b[0m\u001b[0;34m=\u001b[0m\u001b[0;34m{\u001b[0m\u001b[0mK\u001b[0m\u001b[0;34m:\u001b[0m\u001b[0mV\u001b[0m\u001b[0;34m.\u001b[0m\u001b[0mupper\u001b[0m\u001b[0;34m(\u001b[0m\u001b[0;34m)\u001b[0m \u001b[0;32mfor\u001b[0m \u001b[0;34m(\u001b[0m\u001b[0mK\u001b[0m\u001b[0;34m,\u001b[0m\u001b[0mV\u001b[0m\u001b[0;34m)\u001b[0m\u001b[0;32min\u001b[0m \u001b[0mmy_str\u001b[0m\u001b[0;34m}\u001b[0m\u001b[0;34m\u001b[0m\u001b[0;34m\u001b[0m\u001b[0m\n\u001b[0m\u001b[1;32m      7\u001b[0m \u001b[0mprint\u001b[0m\u001b[0;34m(\u001b[0m\u001b[0mdict_2\u001b[0m\u001b[0;34m)\u001b[0m\u001b[0;34m\u001b[0m\u001b[0;34m\u001b[0m\u001b[0m\n",
            "\u001b[0;32m<ipython-input-5-059a406cb886>\u001b[0m in \u001b[0;36m<dictcomp>\u001b[0;34m(.0)\u001b[0m\n\u001b[1;32m      4\u001b[0m \u001b[0mprint\u001b[0m\u001b[0;34m(\u001b[0m\u001b[0mdict_1\u001b[0m\u001b[0;34m)\u001b[0m\u001b[0;34m\u001b[0m\u001b[0;34m\u001b[0m\u001b[0m\n\u001b[1;32m      5\u001b[0m \u001b[0mmy_str\u001b[0m\u001b[0;34m=\u001b[0m\u001b[0;34m'Welcome t dictionary'\u001b[0m\u001b[0;34m\u001b[0m\u001b[0;34m\u001b[0m\u001b[0m\n\u001b[0;32m----> 6\u001b[0;31m \u001b[0mdict_2\u001b[0m\u001b[0;34m=\u001b[0m\u001b[0;34m{\u001b[0m\u001b[0mK\u001b[0m\u001b[0;34m:\u001b[0m\u001b[0mV\u001b[0m\u001b[0;34m.\u001b[0m\u001b[0mupper\u001b[0m\u001b[0;34m(\u001b[0m\u001b[0;34m)\u001b[0m \u001b[0;32mfor\u001b[0m \u001b[0;34m(\u001b[0m\u001b[0mK\u001b[0m\u001b[0;34m,\u001b[0m\u001b[0mV\u001b[0m\u001b[0;34m)\u001b[0m\u001b[0;32min\u001b[0m \u001b[0mmy_str\u001b[0m\u001b[0;34m}\u001b[0m\u001b[0;34m\u001b[0m\u001b[0;34m\u001b[0m\u001b[0m\n\u001b[0m\u001b[1;32m      7\u001b[0m \u001b[0mprint\u001b[0m\u001b[0;34m(\u001b[0m\u001b[0mdict_2\u001b[0m\u001b[0;34m)\u001b[0m\u001b[0;34m\u001b[0m\u001b[0;34m\u001b[0m\u001b[0m\n",
            "\u001b[0;31mValueError\u001b[0m: not enough values to unpack (expected 2, got 1)"
          ]
        }
      ]
    },
    {
      "cell_type": "code",
      "source": [
        "my_str='Welcome t dictionary'\n",
        "dict_2={K:V for K,V in enumerate(my_str)}\n",
        "print(dict_2)"
      ],
      "metadata": {
        "colab": {
          "base_uri": "https://localhost:8080/"
        },
        "id": "y3RtVezQgTMi",
        "outputId": "f883ac1a-eed5-4025-bed7-6e9a25b35a16"
      },
      "execution_count": null,
      "outputs": [
        {
          "output_type": "stream",
          "name": "stdout",
          "text": [
            "{0: 'W', 1: 'e', 2: 'l', 3: 'c', 4: 'o', 5: 'm', 6: 'e', 7: ' ', 8: 't', 9: ' ', 10: 'd', 11: 'i', 12: 'c', 13: 't', 14: 'i', 15: 'o', 16: 'n', 17: 'a', 18: 'r', 19: 'y'}\n"
          ]
        }
      ]
    },
    {
      "cell_type": "code",
      "source": [
        "emojis = {\n",
        "    \"I am Happy\": \"😊\",\n",
        "    \"I am in love\": \"❤️\",\n",
        "    \"Good Work\": \"👍\",\n",
        "    \"Fire\": \"🔥\",\n",
        "    \"Hello Kitty\": \"🐱\"\n",
        "}\n",
        "emoji_items = list(emojis.items())\n",
        "\n",
        "while True:\n",
        "    print(\"\\n==== Emoji Menu ====\")\n",
        "    for index, (name, _) in enumerate(emoji_items, start=1):\n",
        "        print(f\"{index}. {name} Emoji\")\n",
        "    print(\"6. Exit\")\n",
        "    choice = input(\"\\nEnter your choice (1-6): \")\n",
        "    if choice == '6':\n",
        "        print(\"Exiting program. Goodbye!\")\n",
        "        break\n",
        "    elif choice in ['1', '2', '3', '4', '5']:\n",
        "        index = int(choice) - 1\n",
        "        emoji_name, emoji_char = emoji_items[index]\n",
        "        print(f\"\\n{emoji_name} Emoji: {emoji_char}\")\n",
        "    else:\n",
        "        print(\"Invalid input! Please enter a number between 1 and 6.\")"
      ],
      "metadata": {
        "colab": {
          "base_uri": "https://localhost:8080/"
        },
        "id": "76H8yvdlhioR",
        "outputId": "7bc4e743-b53a-4c03-c5f5-370945adddac"
      },
      "execution_count": null,
      "outputs": [
        {
          "output_type": "stream",
          "name": "stdout",
          "text": [
            "\n",
            "==== Emoji Menu ====\n",
            "1. Smile Emoji\n",
            "2. Heart Emoji\n",
            "3. Thumbs Up Emoji\n",
            "4. Fire Emoji\n",
            "5. Cat Emoji\n",
            "6. Exit\n",
            "\n",
            "Enter your choice (1-6): 1\n",
            "\n",
            "Smile Emoji: 😊\n",
            "\n",
            "==== Emoji Menu ====\n",
            "1. Smile Emoji\n",
            "2. Heart Emoji\n",
            "3. Thumbs Up Emoji\n",
            "4. Fire Emoji\n",
            "5. Cat Emoji\n",
            "6. Exit\n",
            "\n",
            "Enter your choice (1-6): 6\n",
            "Exiting program. Goodbye!\n"
          ]
        }
      ]
    },
    {
      "cell_type": "markdown",
      "source": [
        "Write a program to create emoji"
      ],
      "metadata": {
        "id": "-DXYJl41hpRo"
      }
    },
    {
      "cell_type": "code",
      "source": [
        "dict={'Happy':'😁','Sad':'🥲😔'}\n",
        "a=input(\"Enter you mood: \")\n",
        "if a==\"happy\":\n",
        "  print(dict['Happy'])\n",
        "elif a==\"sad\":\n",
        "  print(dict['Sad'])"
      ],
      "metadata": {
        "colab": {
          "base_uri": "https://localhost:8080/"
        },
        "id": "iS9Ff2SOjnLm",
        "outputId": "c67839e5-ee24-499d-b4d4-c1c706641a37"
      },
      "execution_count": null,
      "outputs": [
        {
          "output_type": "stream",
          "name": "stdout",
          "text": [
            "Enter you mood: happy\n",
            "😁\n"
          ]
        }
      ]
    },
    {
      "cell_type": "code",
      "source": [
        "d1={'Happy':\"😊\",'Sad':\"😒\",'Angry':\"😠\",'Fearful':\"😨\"}\n",
        "a=input(\"How are you Feeling:\")\n",
        "print(d1[a])"
      ],
      "metadata": {
        "colab": {
          "base_uri": "https://localhost:8080/",
          "height": 193
        },
        "id": "YMEpxGlIjo70",
        "outputId": "576d4a7d-6744-42bc-cc22-de84178ffd09"
      },
      "execution_count": null,
      "outputs": [
        {
          "name": "stdout",
          "output_type": "stream",
          "text": [
            "How are you Feeling:I am feeling Happy\n"
          ]
        },
        {
          "output_type": "error",
          "ename": "KeyError",
          "evalue": "'I am feeling Happy'",
          "traceback": [
            "\u001b[0;31m---------------------------------------------------------------------------\u001b[0m",
            "\u001b[0;31mKeyError\u001b[0m                                  Traceback (most recent call last)",
            "\u001b[0;32m<ipython-input-4-0dd86768b683>\u001b[0m in \u001b[0;36m<cell line: 0>\u001b[0;34m()\u001b[0m\n\u001b[1;32m      1\u001b[0m \u001b[0md1\u001b[0m\u001b[0;34m=\u001b[0m\u001b[0;34m{\u001b[0m\u001b[0;34m'Happy'\u001b[0m\u001b[0;34m:\u001b[0m\u001b[0;34m\"😊\"\u001b[0m\u001b[0;34m,\u001b[0m\u001b[0;34m'Sad'\u001b[0m\u001b[0;34m:\u001b[0m\u001b[0;34m\"😒\"\u001b[0m\u001b[0;34m,\u001b[0m\u001b[0;34m'Angry'\u001b[0m\u001b[0;34m:\u001b[0m\u001b[0;34m\"😠\"\u001b[0m\u001b[0;34m,\u001b[0m\u001b[0;34m'Fearful'\u001b[0m\u001b[0;34m:\u001b[0m\u001b[0;34m\"😨\"\u001b[0m\u001b[0;34m}\u001b[0m\u001b[0;34m\u001b[0m\u001b[0;34m\u001b[0m\u001b[0m\n\u001b[1;32m      2\u001b[0m \u001b[0ma\u001b[0m\u001b[0;34m=\u001b[0m\u001b[0minput\u001b[0m\u001b[0;34m(\u001b[0m\u001b[0;34m\"How are you Feeling:\"\u001b[0m\u001b[0;34m)\u001b[0m\u001b[0;34m\u001b[0m\u001b[0;34m\u001b[0m\u001b[0m\n\u001b[0;32m----> 3\u001b[0;31m \u001b[0mprint\u001b[0m\u001b[0;34m(\u001b[0m\u001b[0md1\u001b[0m\u001b[0;34m[\u001b[0m\u001b[0ma\u001b[0m\u001b[0;34m]\u001b[0m\u001b[0;34m)\u001b[0m\u001b[0;34m\u001b[0m\u001b[0;34m\u001b[0m\u001b[0m\n\u001b[0m",
            "\u001b[0;31mKeyError\u001b[0m: 'I am feeling Happy'"
          ]
        }
      ]
    },
    {
      "cell_type": "markdown",
      "source": [
        "FUNCTIONS: \"\" organized,well written,modular code to perform a task\"\n",
        "There aare three types of functions\n",
        "1.predefine functions(sum,print,input)\n",
        "2.Userdefined functions\n",
        "3.Anonymous functions"
      ],
      "metadata": {
        "id": "n3LBWiQGhajQ"
      }
    },
    {
      "cell_type": "code",
      "source": [
        "def func1(n):\n",
        "  n=n*n\n",
        "  print(n)\n",
        "print(func1(10))\n"
      ],
      "metadata": {
        "colab": {
          "base_uri": "https://localhost:8080/"
        },
        "id": "3eFzz0pOhjsv",
        "outputId": "ab754471-ff9b-444e-fddb-b41747f03a9a"
      },
      "execution_count": 5,
      "outputs": [
        {
          "output_type": "stream",
          "name": "stdout",
          "text": [
            "100\n",
            "None\n"
          ]
        }
      ]
    },
    {
      "cell_type": "markdown",
      "source": [
        "Write a function to check whether a number is even or odd"
      ],
      "metadata": {
        "id": "Xsqtn19-jsMV"
      }
    },
    {
      "cell_type": "code",
      "source": [
        "def even_odd(m):\n",
        "  if m%2==0:\n",
        "     print(\"Number is Even\")\n",
        "  else:\n",
        "     print(\"Number is Odd\")\n",
        "m=int(input(\"Enter your number\"))\n",
        "even_odd(m)"
      ],
      "metadata": {
        "colab": {
          "base_uri": "https://localhost:8080/"
        },
        "id": "uQ3AYkqAj4kW",
        "outputId": "5dbaf8c7-9cec-4877-cd4e-2abfc1c547fe"
      },
      "execution_count": 8,
      "outputs": [
        {
          "output_type": "stream",
          "name": "stdout",
          "text": [
            "Enter your number7\n",
            "Number is Odd\n"
          ]
        }
      ]
    },
    {
      "cell_type": "code",
      "source": [
        "def add_1(a,b):\n",
        "  \"\"\"This fun adds two variables\"\"\"\n",
        "  C=a+b\n",
        "  print(C)\n",
        "add_1(2,3)\n",
        "print(add_1.__doc__)"
      ],
      "metadata": {
        "colab": {
          "base_uri": "https://localhost:8080/"
        },
        "id": "4vB1ztCMklfL",
        "outputId": "4166e49f-8a76-494b-b6da-04e3b56967fd"
      },
      "execution_count": 13,
      "outputs": [
        {
          "output_type": "stream",
          "name": "stdout",
          "text": [
            "5\n",
            "This fun adds two variables\n"
          ]
        }
      ]
    },
    {
      "cell_type": "code",
      "source": [],
      "metadata": {
        "id": "TLaup7Z8oEWh"
      },
      "execution_count": null,
      "outputs": []
    }
  ]
}