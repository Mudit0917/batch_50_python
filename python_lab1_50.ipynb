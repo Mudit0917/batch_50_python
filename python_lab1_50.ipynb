{
  "nbformat": 4,
  "nbformat_minor": 0,
  "metadata": {
    "colab": {
      "provenance": [],
      "authorship_tag": "ABX9TyNKaZe+0LKmbeRu9DAHgX5D",
      "include_colab_link": true
    },
    "kernelspec": {
      "name": "python3",
      "display_name": "Python 3"
    },
    "language_info": {
      "name": "python"
    }
  },
  "cells": [
    {
      "cell_type": "markdown",
      "metadata": {
        "id": "view-in-github",
        "colab_type": "text"
      },
      "source": [
        "<a href=\"https://colab.research.google.com/github/Mudit0917/batch_50_python/blob/main/python_lab1_50.ipynb\" target=\"_parent\"><img src=\"https://colab.research.google.com/assets/colab-badge.svg\" alt=\"Open In Colab\"/></a>"
      ]
    },
    {
      "cell_type": "code",
      "execution_count": null,
      "metadata": {
        "colab": {
          "base_uri": "https://localhost:8080/"
        },
        "id": "6ihXlOPoJY1W",
        "outputId": "207f6a3a-7200-45a7-b102-70372e85fc0a"
      },
      "outputs": [
        {
          "output_type": "stream",
          "name": "stdout",
          "text": [
            "welcome to my python lab\n"
          ]
        }
      ],
      "source": [
        "#welcome to my first lab\n",
        "print(\"welcome to my python lab\")\n"
      ]
    },
    {
      "cell_type": "code",
      "source": [],
      "metadata": {
        "id": "7Fp1FFWqKAhg"
      },
      "execution_count": null,
      "outputs": []
    },
    {
      "cell_type": "markdown",
      "source": [
        "**KEYWORDS AND IDENTIFIERS**\n"
      ],
      "metadata": {
        "id": "vO18TEDYMWvC"
      }
    },
    {
      "cell_type": "code",
      "source": [
        "print(keyw.kwlist())"
      ],
      "metadata": {
        "colab": {
          "base_uri": "https://localhost:8080/",
          "height": 141
        },
        "id": "gQj-6_IXMoe0",
        "outputId": "03d1f7ac-55de-44ac-b255-3100afda8be3"
      },
      "execution_count": null,
      "outputs": [
        {
          "output_type": "error",
          "ename": "NameError",
          "evalue": "name 'keyw' is not defined",
          "traceback": [
            "\u001b[0;31m---------------------------------------------------------------------------\u001b[0m",
            "\u001b[0;31mNameError\u001b[0m                                 Traceback (most recent call last)",
            "\u001b[0;32m<ipython-input-2-74717d282a57>\u001b[0m in \u001b[0;36m<cell line: 1>\u001b[0;34m()\u001b[0m\n\u001b[0;32m----> 1\u001b[0;31m \u001b[0mprint\u001b[0m\u001b[0;34m(\u001b[0m\u001b[0mkeyw\u001b[0m\u001b[0;34m.\u001b[0m\u001b[0mkwlist\u001b[0m\u001b[0;34m(\u001b[0m\u001b[0;34m)\u001b[0m\u001b[0;34m)\u001b[0m\u001b[0;34m\u001b[0m\u001b[0;34m\u001b[0m\u001b[0m\n\u001b[0m",
            "\u001b[0;31mNameError\u001b[0m: name 'keyw' is not defined"
          ]
        }
      ]
    },
    {
      "cell_type": "code",
      "source": [
        "a=10+10\n",
        "print(a)\n",
        "a=10+10+\\\n",
        "  20+20+\\\n",
        "  30+20+10\n",
        "print(a)"
      ],
      "metadata": {
        "colab": {
          "base_uri": "https://localhost:8080/"
        },
        "id": "njE-cC5uNUjd",
        "outputId": "a712d1b0-efba-4be8-e145-e1b6d7be5690"
      },
      "execution_count": null,
      "outputs": [
        {
          "output_type": "stream",
          "name": "stdout",
          "text": [
            "20\n",
            "120\n"
          ]
        }
      ]
    },
    {
      "cell_type": "code",
      "source": [
        "# @title Default title text\n",
        "l1=['a',\n",
        "    'b',\n",
        "    'c',\n",
        "    'd',\n",
        "    'e'\n",
        "    ]\n",
        "l1"
      ],
      "metadata": {
        "colab": {
          "base_uri": "https://localhost:8080/"
        },
        "id": "3rWzIkYZORnE",
        "outputId": "921a6e43-c385-42dc-c045-b6af138df9d1"
      },
      "execution_count": null,
      "outputs": [
        {
          "output_type": "execute_result",
          "data": {
            "text/plain": [
              "['a', 'b', 'c', 'd', 'e']"
            ]
          },
          "metadata": {},
          "execution_count": 11
        }
      ]
    },
    {
      "cell_type": "markdown",
      "source": [],
      "metadata": {
        "id": "nIJL5suEO4Sp"
      }
    },
    {
      "cell_type": "code",
      "source": [
        "#assignment\n",
        "#mystring=\"'Hi, My name is Mudit tyagi'\\n 'And I Am A student doing my bachelors from UPES'\"\n",
        "print(mystring)"
      ],
      "metadata": {
        "colab": {
          "base_uri": "https://localhost:8080/"
        },
        "id": "IoVbPrUmQ55H",
        "outputId": "e4c6c9ea-7959-4843-a29b-5ca46924f054"
      },
      "execution_count": null,
      "outputs": [
        {
          "output_type": "stream",
          "name": "stdout",
          "text": [
            "'Hi, My name is Mudit tyagi'\n",
            " 'And I Am A student doing my bachlors from UPES'\n"
          ]
        }
      ]
    },
    {
      "cell_type": "code",
      "source": [
        "num1"
      ],
      "metadata": {
        "id": "rW_BxhFTS6ht"
      },
      "execution_count": null,
      "outputs": []
    },
    {
      "cell_type": "code",
      "source": [
        "num1=int(input(\"Enter your first number\"))\n",
        "num2=int(input(\"Enter your second number\"))\n",
        "sum=(num1 + num2)\n",
        "sum"
      ],
      "metadata": {
        "colab": {
          "base_uri": "https://localhost:8080/"
        },
        "id": "uud8j45wR8iU",
        "outputId": "118cebe3-81e4-4433-afd6-44e3d4f0a262"
      },
      "execution_count": null,
      "outputs": [
        {
          "name": "stdout",
          "output_type": "stream",
          "text": [
            "Enter your first number786\n",
            "Enter your second number108\n"
          ]
        },
        {
          "output_type": "execute_result",
          "data": {
            "text/plain": [
              "894"
            ]
          },
          "metadata": {},
          "execution_count": 21
        }
      ]
    },
    {
      "cell_type": "code",
      "source": [
        "num1=int(input(\"enter your first number\"))\n",
        "num2=int(input(\"enter your second number\"))\n",
        "product=(num1*num2)\n",
        "print(product)"
      ],
      "metadata": {
        "colab": {
          "base_uri": "https://localhost:8080/"
        },
        "id": "2OSZKb5JUwm8",
        "outputId": "63c8eee8-1dd0-4955-9c7f-af795064854a"
      },
      "execution_count": null,
      "outputs": [
        {
          "output_type": "stream",
          "name": "stdout",
          "text": [
            "enter your first number786\n",
            "enter your second number108\n",
            "84888\n"
          ]
        }
      ]
    },
    {
      "cell_type": "code",
      "source": [
        "a=10\n",
        "b=5\n",
        "print(a+b)\n",
        "print(a-b)\n",
        "print(a*b)\n",
        "print(a/b)\n",
        "print(a%b)"
      ],
      "metadata": {
        "id": "Re239xQgVPnt",
        "colab": {
          "base_uri": "https://localhost:8080/"
        },
        "outputId": "171ca8e4-d76a-4de3-b405-fc8db4ca525a"
      },
      "execution_count": null,
      "outputs": [
        {
          "output_type": "stream",
          "name": "stdout",
          "text": [
            "15\n",
            "5\n",
            "50\n",
            "2.0\n",
            "0\n"
          ]
        }
      ]
    },
    {
      "cell_type": "code",
      "source": [
        "a=17\n",
        "b=3\n",
        "print(a//b)"
      ],
      "metadata": {
        "colab": {
          "base_uri": "https://localhost:8080/"
        },
        "id": "SgjZF8R4lOCl",
        "outputId": "49e2e032-12b9-4983-bad5-f7f6a87abe80"
      },
      "execution_count": null,
      "outputs": [
        {
          "output_type": "stream",
          "name": "stdout",
          "text": [
            "5\n"
          ]
        }
      ]
    },
    {
      "cell_type": "code",
      "source": [
        "a=17\n",
        "b=3\n",
        "print(a**b)\n",
        "print(a/b)\n",
        "print(a==b)\n",
        "print(a!=b)\n",
        "print(a>b)\n",
        "print(a<b)\n",
        "print(a>=b)\n",
        "print(a<=b)\n",
        "print(a^b)"
      ],
      "metadata": {
        "colab": {
          "base_uri": "https://localhost:8080/"
        },
        "id": "1VIeW-e0lZMK",
        "outputId": "940eea2d-7a79-483e-d397-3976852658d3"
      },
      "execution_count": null,
      "outputs": [
        {
          "output_type": "stream",
          "name": "stdout",
          "text": [
            "4913\n",
            "5.666666666666667\n",
            "False\n",
            "True\n",
            "True\n",
            "False\n",
            "True\n",
            "False\n",
            "18\n"
          ]
        }
      ]
    },
    {
      "cell_type": "markdown",
      "source": [
        "BITWISE OPERATORS\n"
      ],
      "metadata": {
        "id": "HX4_1Mgqm3AQ"
      }
    },
    {
      "cell_type": "markdown",
      "source": [
        "AND(&),OR(OR),NOT(!),XOR(^)\n",
        "\n"
      ],
      "metadata": {
        "id": "rORrTUHXoTex"
      }
    },
    {
      "cell_type": "code",
      "source": [
        "a=0o00001010\n",
        "print(a>>1)\n"
      ],
      "metadata": {
        "colab": {
          "base_uri": "https://localhost:8080/"
        },
        "id": "DtXRzeOCqwN0",
        "outputId": "5a3743ce-02d0-4d78-c94d-df56be547df1"
      },
      "execution_count": null,
      "outputs": [
        {
          "output_type": "stream",
          "name": "stdout",
          "text": [
            "260\n"
          ]
        }
      ]
    },
    {
      "cell_type": "code",
      "source": [
        "a=15\n",
        "print(a>>1)"
      ],
      "metadata": {
        "colab": {
          "base_uri": "https://localhost:8080/"
        },
        "id": "Itt84IN3nCWo",
        "outputId": "fcb889b1-0672-40ec-d830-6551087f8d82"
      },
      "execution_count": null,
      "outputs": [
        {
          "output_type": "stream",
          "name": "stdout",
          "text": [
            "7\n"
          ]
        }
      ]
    },
    {
      "cell_type": "code",
      "source": [
        "a=10\n",
        "b=5\n",
        "if(a>b) && (a==b):\n",
        "print(\"success\")\n",
        "else:print(\"fail\")"
      ],
      "metadata": {
        "colab": {
          "base_uri": "https://localhost:8080/",
          "height": 106
        },
        "id": "1-xWTwUcqfHV",
        "outputId": "05c31b16-06cb-4b5c-f355-e9a38f4a1169"
      },
      "execution_count": null,
      "outputs": [
        {
          "output_type": "error",
          "ename": "SyntaxError",
          "evalue": "invalid syntax (<ipython-input-14-da73150f9844>, line 3)",
          "traceback": [
            "\u001b[0;36m  File \u001b[0;32m\"<ipython-input-14-da73150f9844>\"\u001b[0;36m, line \u001b[0;32m3\u001b[0m\n\u001b[0;31m    if(a>b) && (a==b):\u001b[0m\n\u001b[0m             ^\u001b[0m\n\u001b[0;31mSyntaxError\u001b[0m\u001b[0;31m:\u001b[0m invalid syntax\n"
          ]
        }
      ]
    },
    {
      "cell_type": "code",
      "source": [],
      "metadata": {
        "id": "JOSyxTFOuGH8"
      },
      "execution_count": null,
      "outputs": []
    },
    {
      "cell_type": "markdown",
      "source": [
        "Write a program to use input function and take 2 variables store numbers in them and use arithmetic functions."
      ],
      "metadata": {
        "id": "bSZXjZWNufsN"
      }
    },
    {
      "cell_type": "code",
      "source": [
        "a=int(input(\"enter your first number\"))\n",
        "b=int(input(\"enter your second number\"))\n",
        "askk=input(\"enter your operation\")\n",
        "print(eval(str(a) + askk + str(b)))"
      ],
      "metadata": {
        "colab": {
          "base_uri": "https://localhost:8080/"
        },
        "id": "GE9a4uqDvEJi",
        "outputId": "aef77495-c929-46b5-c8f6-4b9fda1bed9e"
      },
      "execution_count": null,
      "outputs": [
        {
          "output_type": "stream",
          "name": "stdout",
          "text": [
            "enter your first number2\n",
            "enter your second number3\n",
            "enter your operation**\n",
            "8\n"
          ]
        }
      ]
    },
    {
      "cell_type": "code",
      "source": [
        "\n",
        "import math\n",
        "radius = float(input(\"Enter the radius of the circle: \"))\n",
        "area = math.pi * radius ** 2\n",
        "print(f\"The area of the circle with radius {radius} is: {area:.2f}\")\n"
      ],
      "metadata": {
        "id": "77flq45BvQYP",
        "colab": {
          "base_uri": "https://localhost:8080/"
        },
        "outputId": "e418c266-ea6a-4c82-8122-2019b44ba468"
      },
      "execution_count": null,
      "outputs": [
        {
          "output_type": "stream",
          "name": "stdout",
          "text": [
            "Enter the radius of the circle: 3\n",
            "The area of the circle with radius 3.0 is: 28.27\n"
          ]
        }
      ]
    },
    {
      "cell_type": "code",
      "source": [
        "import math\n",
        "a = float(input(\"Enter the length of side a: \"))\n",
        "b = float(input(\"Enter the length of side b: \"))\n",
        "c = math.sqrt(a**2 + b**2)\n",
        "print(f\"The length of the hypotenuse is: {c:.2f}\")\n"
      ],
      "metadata": {
        "colab": {
          "base_uri": "https://localhost:8080/"
        },
        "id": "UiC1wW4tTYut",
        "outputId": "06112e69-06a9-4f64-c7ad-0ad5e7304e9b"
      },
      "execution_count": null,
      "outputs": [
        {
          "output_type": "stream",
          "name": "stdout",
          "text": [
            "Enter the length of side a: 4\n",
            "Enter the length of side b: 8\n",
            "The length of the hypotenuse is: 8.94\n"
          ]
        }
      ]
    },
    {
      "cell_type": "code",
      "source": [
        "\n",
        "P = float(input(\"Enter the principal amount (P): \"))\n",
        "R = float(input(\"Enter the annual rate of interest (R in %): \"))\n",
        "T = float(input(\"Enter the time (T in years): \"))\n",
        "\n",
        "SI = (P * R * T) / 100\n",
        "\n",
        "print(f\"The Simple Interest is: {SI:.2f}\")\n"
      ],
      "metadata": {
        "colab": {
          "base_uri": "https://localhost:8080/"
        },
        "id": "bCDOwWC3TyBP",
        "outputId": "ffdaac80-fe14-48d6-b243-f150f23f924d"
      },
      "execution_count": null,
      "outputs": [
        {
          "output_type": "stream",
          "name": "stdout",
          "text": [
            "Enter the principal amount (P): 5000\n",
            "Enter the annual rate of interest (R in %): 12\n",
            "Enter the time (T in years): 10\n",
            "The Simple Interest is: 6000.00\n"
          ]
        }
      ]
    },
    {
      "cell_type": "code",
      "source": [
        "import math\n",
        "\n",
        "a = float(input(\"Enter the length of side a: \"))\n",
        "b = float(input(\"Enter the length of side b: \"))\n",
        "c = float(input(\"Enter the length of side c: \"))\n",
        "\n",
        "s = (a + b + c) / 2\n",
        "area = math.sqrt(s * (s - a) * (s - b) * (s - c))\n",
        "\n",
        "print(f\"The area of the triangle is: {area:.2f}\")\n"
      ],
      "metadata": {
        "colab": {
          "base_uri": "https://localhost:8080/"
        },
        "id": "Ch8EHhPbUG2V",
        "outputId": "4ee49c0b-5b92-41dc-c61a-d7aaf03532f2"
      },
      "execution_count": null,
      "outputs": [
        {
          "output_type": "stream",
          "name": "stdout",
          "text": [
            "Enter the length of side a: 31\n",
            "Enter the length of side b: 36\n",
            "Enter the length of side c: 38\n",
            "The area of the triangle is: 519.67\n"
          ]
        }
      ]
    },
    {
      "cell_type": "code",
      "source": [
        "seconds = int(input(\"Enter the total seconds: \"))\n",
        "hours = seconds // 3600\n",
        "minutes = (seconds % 3600) // 60\n",
        "remaining_seconds = seconds % 60\n",
        "\n",
        "print(f\"{seconds} seconds is equal to {hours} hours, {minutes} minutes, and {remaining_seconds} seconds.\")\n"
      ],
      "metadata": {
        "colab": {
          "base_uri": "https://localhost:8080/"
        },
        "id": "dTVbXWj1UkBF",
        "outputId": "2bda45f2-2817-4c1f-dacf-082e2eb5cc13"
      },
      "execution_count": null,
      "outputs": [
        {
          "output_type": "stream",
          "name": "stdout",
          "text": [
            "Enter the total seconds: 3600\n",
            "3600 seconds is equal to 1 hours, 0 minutes, and 0 seconds.\n"
          ]
        }
      ]
    },
    {
      "cell_type": "code",
      "source": [
        "x = int(input(\"Enter the first number (x): \"))\n",
        "y = int(input(\"Enter the second number (y): \"))\n",
        "x, y = y, x\n",
        "\n",
        "print(f\"After swapping, x = {x} and y = {y}\")\n"
      ],
      "metadata": {
        "colab": {
          "base_uri": "https://localhost:8080/"
        },
        "id": "Zn2T5cr5U6sR",
        "outputId": "70fdf7ff-85dd-4bd4-cbac-f7c8160574af"
      },
      "execution_count": null,
      "outputs": [
        {
          "output_type": "stream",
          "name": "stdout",
          "text": [
            "Enter the first number (x): 24\n",
            "Enter the second number (y): 36\n",
            "After swapping, x = 36 and y = 24\n"
          ]
        }
      ]
    },
    {
      "cell_type": "code",
      "source": [
        "n = int(input(\"Enter a number (n): \"))\n",
        "sum_natural = n * (n + 1) // 2\n",
        "\n",
        "print(f\"The sum of the first {n} natural numbers is: {sum_natural}\")\n"
      ],
      "metadata": {
        "colab": {
          "base_uri": "https://localhost:8080/"
        },
        "id": "g8QHzoSSVMEP",
        "outputId": "8fda8dac-cb8b-45e2-8ec1-e01705c0281e"
      },
      "execution_count": null,
      "outputs": [
        {
          "output_type": "stream",
          "name": "stdout",
          "text": [
            "Enter a number (n): 20\n",
            "The sum of the first 20 natural numbers is: 210\n"
          ]
        }
      ]
    },
    {
      "cell_type": "code",
      "source": [
        "print(\"A\\tB\\tA & B\\tA | B\\tA ^ B\")\n",
        "for A in [0, 1]:\n",
        " for B in [0, 1]:\n",
        "  print(f\"{A}\\t{B}\\t{A & B}\\t{A | B}\\t{A ^ B}\")\n"
      ],
      "metadata": {
        "colab": {
          "base_uri": "https://localhost:8080/"
        },
        "id": "eToWJpf-VWbd",
        "outputId": "5801d672-c470-4e88-9fc5-d10d89e858fa"
      },
      "execution_count": null,
      "outputs": [
        {
          "output_type": "stream",
          "name": "stdout",
          "text": [
            "A\tB\tA & B\tA | B\tA ^ B\n",
            "0\t0\t0\t0\t0\n",
            "0\t1\t0\t1\t1\n",
            "1\t0\t0\t1\t1\n",
            "1\t1\t1\t1\t0\n"
          ]
        }
      ]
    },
    {
      "cell_type": "code",
      "source": [
        "num = int(input(\"Enter a number: \"))\n",
        "shift = int(input(\"Enter the number of positions to shift: \"))\n",
        "left_shift = num << shift\n",
        "right_shift = num >> shift\n",
        "\n",
        "print(f\"Left shift by {shift} positions: {left_shift}\")\n",
        "print(f\"Right shift by {shift} positions: {right_shift}\")\n"
      ],
      "metadata": {
        "colab": {
          "base_uri": "https://localhost:8080/"
        },
        "id": "D6v5PPdhVlDW",
        "outputId": "85710c28-d033-4b63-bb50-42885b30a0c6"
      },
      "execution_count": null,
      "outputs": [
        {
          "output_type": "stream",
          "name": "stdout",
          "text": [
            "Enter a number: 20\n",
            "Enter the number of positions to shift: 1\n",
            "Left shift by 1 positions: 40\n",
            "Right shift by 1 positions: 10\n"
          ]
        }
      ]
    },
    {
      "cell_type": "code",
      "source": [
        "num = int(input(\"Enter a number: \"))\n",
        "sequence = (10, 20, 56, 78, 89)\n",
        "if num in sequence:\n",
        "    print(f\"{num} is in the sequence.\")\n",
        "else:\n",
        "    print(f\"{num} is not in the sequence.\")\n"
      ],
      "metadata": {
        "colab": {
          "base_uri": "https://localhost:8080/"
        },
        "id": "GLF96WLLV5S0",
        "outputId": "795e06f4-6c2f-4646-d631-03276f605615"
      },
      "execution_count": null,
      "outputs": [
        {
          "output_type": "stream",
          "name": "stdout",
          "text": [
            "Enter a number: 20\n",
            "20 is in the sequence.\n"
          ]
        }
      ]
    },
    {
      "cell_type": "code",
      "source": [
        "char = input(\"Enter a character: \")\n",
        "string = \"Hello, Python!\"\n",
        "if char in string:\n",
        "    print(f\"The character '{char}' is in the string.\")\n",
        "else:\n",
        "    print(f\"The character '{char}' is not in the string.\")\n"
      ],
      "metadata": {
        "colab": {
          "base_uri": "https://localhost:8080/"
        },
        "id": "EM-kRQEVWIW0",
        "outputId": "2b21b641-17a8-49ad-91b1-1718cbb340e0"
      },
      "execution_count": null,
      "outputs": [
        {
          "output_type": "stream",
          "name": "stdout",
          "text": [
            "Enter a character: P\n",
            "The character 'P' is in the string.\n"
          ]
        }
      ]
    },
    {
      "cell_type": "code",
      "source": [
        "num=int(input(\"Enter a number\"))\n",
        "if num%3==0 and num%5==0:\n",
        "   print(\"The number is divisible by 3 and 5\")\n",
        "else:\n",
        "   print(\"The number is not divisible by 3 and 5\")"
      ],
      "metadata": {
        "colab": {
          "base_uri": "https://localhost:8080/"
        },
        "id": "HmNYfUZsqCih",
        "outputId": "b1187ece-9af3-4f87-9ec6-c626f13508ad"
      },
      "execution_count": null,
      "outputs": [
        {
          "output_type": "stream",
          "name": "stdout",
          "text": [
            "Enter a number45\n",
            "The number is divisible by 3 and 5\n"
          ]
        }
      ]
    },
    {
      "cell_type": "code",
      "source": [
        "num=int(input(\"Enter a number\"))\n",
        "if num%5==0:\n",
        "   print(\"The number is a multiple of 5\")\n",
        "else:\n",
        "   print(\"The number is not a multiple of 5\")"
      ],
      "metadata": {
        "colab": {
          "base_uri": "https://localhost:8080/"
        },
        "id": "zCcW-JxSreSn",
        "outputId": "fb75ba4e-97c2-449a-d22f-1dbf3adf4104"
      },
      "execution_count": null,
      "outputs": [
        {
          "output_type": "stream",
          "name": "stdout",
          "text": [
            "Enter a number45\n",
            "The number is a multiple of 5\n"
          ]
        }
      ]
    },
    {
      "cell_type": "code",
      "source": [
        "num1=int(input(\"Enter first number\"))\n",
        "num2=int(input(\"Enter second number\"))\n",
        "if num1>num2:\n",
        "    print(\"num1 is greater\")\n",
        "elif num2>num1:\n",
        "    print(\"num2 is greater\")\n",
        "else:\n",
        "     print(\"both are equal\")"
      ],
      "metadata": {
        "colab": {
          "base_uri": "https://localhost:8080/"
        },
        "id": "Z8aEI4qTs9GX",
        "outputId": "bda7aa68-cc2f-49fa-84c0-69e70e7112cc"
      },
      "execution_count": null,
      "outputs": [
        {
          "output_type": "stream",
          "name": "stdout",
          "text": [
            "Enter first number5\n",
            "Enter second number5\n",
            "both are equal\n"
          ]
        }
      ]
    },
    {
      "cell_type": "code",
      "source": [
        "num1=int(input(\"Enter first number\"))\n",
        "num2=int(input(\"Enter second number\"))\n",
        "num3=int(input(\"Enter third number\"))\n",
        "if num1 > num2 and num1 > num3 or num2>num1 and num2>num3 or num3>num1 and num3>num2:\n",
        "    print(\"The largest number is\",max (num1, num2, num3))\n"
      ],
      "metadata": {
        "colab": {
          "base_uri": "https://localhost:8080/"
        },
        "id": "DcjfGD_6vT0Z",
        "outputId": "8a4d46ea-15e6-452f-a854-0074479db13c"
      },
      "execution_count": null,
      "outputs": [
        {
          "output_type": "stream",
          "name": "stdout",
          "text": [
            "Enter first number12\n",
            "Enter second number13\n",
            "Enter third number15\n",
            "The largest number is 15\n"
          ]
        }
      ]
    },
    {
      "cell_type": "code",
      "source": [
        "a=int(input(\"Enter a\"))\n",
        "b=int(input(\"Enter b\"))\n",
        "c=int(input(\"Enter c\"))\n",
        "discriminant =int(b**2 - 4*a*c)\n",
        "if discriminant > 0:\n",
        "  print(\"The equation has real roots.\")\n",
        "  root1 = (-b + (discriminant)**1/2) / (2*a)\n",
        "  root2 = (-b - (discriminant))**1/2 (2*a)\n",
        "  print(root1,root2)\n",
        "elif  discriminant <0:\n",
        "  print(\"The equation has immaginary roots\")\n",
        "  root1 = (-b + (discriminant))**1/2 / (2*a)\n",
        "  root2 = (-b - (discriminant))**1/2 / (2*a)\n",
        "  print(root1,root2)\n",
        "\n",
        "else:\n",
        "  print(\"nothing\")\n"
      ],
      "metadata": {
        "colab": {
          "base_uri": "https://localhost:8080/"
        },
        "id": "9VqTG6TIxhyV",
        "outputId": "8b46c2ba-39b0-4791-adef-a7eee84fdd63"
      },
      "execution_count": null,
      "outputs": [
        {
          "output_type": "stream",
          "name": "stderr",
          "text": [
            "<>:8: SyntaxWarning: 'int' object is not callable; perhaps you missed a comma?\n",
            "<>:8: SyntaxWarning: 'int' object is not callable; perhaps you missed a comma?\n"
          ]
        },
        {
          "output_type": "stream",
          "name": "stdout",
          "text": [
            "Enter a5\n",
            "Enter b3\n",
            "Enter c5\n",
            "The equation has immaginary roots\n",
            "-4.7 4.4\n"
          ]
        },
        {
          "output_type": "stream",
          "name": "stderr",
          "text": [
            "<ipython-input-31-36ba2b36c746>:8: SyntaxWarning: 'int' object is not callable; perhaps you missed a comma?\n",
            "  root2 = (-b - (discriminant))**1/2 (2*a)\n"
          ]
        }
      ]
    },
    {
      "cell_type": "code",
      "source": [
        "Y=int(input(\"Enter your year\"))\n",
        "if Y%4==0:\n",
        "  print(\"The year is a leap year\")\n",
        "else:\n",
        "  print(\"The year is not a leap year\")"
      ],
      "metadata": {
        "id": "LpontN7b9KUQ",
        "colab": {
          "base_uri": "https://localhost:8080/"
        },
        "outputId": "2ee65b7e-7c13-4633-daea-594673f826ac"
      },
      "execution_count": null,
      "outputs": [
        {
          "output_type": "stream",
          "name": "stdout",
          "text": [
            "Enter your year2006\n",
            "The year is not a leap year\n"
          ]
        }
      ]
    },
    {
      "cell_type": "code",
      "source": [
        "a=int(input(\"Enter date\"))\n",
        "b=int(input(\"Enter month\"))\n",
        "c=int(input(\"Enter year\"))\n",
        "if"
      ],
      "metadata": {
        "id": "oMSy-T_cSq2z"
      },
      "execution_count": null,
      "outputs": []
    },
    {
      "cell_type": "code",
      "source": [
        "print(\"---------------------------\")\\\n",
        "name=input(\"Enter the name :\")\n",
        "roll=input(\"Enter the roll :\")\n",
        "sap=input(\"Enter the SAP ID :\")\n",
        "sem=1\n",
        "course = \"Btech CSE\"\n",
        "print(\"Enter marks of five subjects\")\n",
        "pds=float(input(\"Enter marks of PDS :\"))\n",
        "pyth=float(input(\"Enter marks of Python :\"))\n",
        "chem=float(input(\"Enter marks of Chemistry :\"))\n",
        "eng=float(input(\"Enter marks of English :\"))\n",
        "phy=float(input(\"Enter marks of Physics :\"))\n",
        "if pds<100 or pyth<100 or chem<100 or eng<100 or phy<100 :\n",
        "    per=((pds+pyth+chem+eng+phy)/500)*100\n",
        "    cgpa = per/10\n",
        "    if cgpa>=0 and cgpa<3.5 :\n",
        "        grade= \"F\"\n",
        "    elif cgpa>=3.5 and cgpa<=5.0 :\n",
        "        grade= \"C+\"\n",
        "    elif cgpa>=5.1 and cgpa<=6.0 :\n",
        "        grade = \"B\"\n",
        "    elif cgpa>=6.1 and cgpa<=7.0 :\n",
        "        grade=\"B+\"\n",
        "    elif cgpa>=7.1 and cgpa<=8.0 :\n",
        "        grade=\"A\"\n",
        "    elif cgpa>=8.1 and cgpa<9.0 :\n",
        "        grade=\"A+\"\n",
        "    else :\n",
        "        grade=\"O\"\n",
        "    print(\"SAMPLE GRADESHEET\")\n",
        "    print(\"Name : \",name)\n",
        "    print(\"Roll no :\",roll)\n",
        "    print(\"SAP ID :\",sap)\n",
        "    print(\"SEM :\",sem)\n",
        "    print(\"COURSE :\",course)\n",
        "    print(\"PDS :\",pds)\n",
        "    print(\"PYTHON :\",pyth)\n",
        "    print(\"CHEMISTRY :\",chem)\n",
        "    print(\"ENGLISH :\",eng)\n",
        "    print(\"PHYSICS :\",phy)\n",
        "    print(\"percentage : \" ,per)\n",
        "    print(\"CGPA : \" ,cgpa)\n",
        "    print(\"GRADE :\",grade)\n",
        "else:\n",
        "    print(\"Invalid input\")"
      ],
      "metadata": {
        "colab": {
          "base_uri": "https://localhost:8080/"
        },
        "id": "TmIothA0hikN",
        "outputId": "b9617ede-6d3a-4112-80d3-fc333875a199"
      },
      "execution_count": null,
      "outputs": [
        {
          "output_type": "stream",
          "name": "stdout",
          "text": [
            "---------------------------\n",
            "Enter the name :Mudit Tyagi\n",
            "Enter the roll :590014218\n",
            "Enter the SAP ID :590014218\n",
            "Enter marks of five subjects\n",
            "Enter marks of PDS :80\n",
            "Enter marks of Python :85\n",
            "Enter marks of Chemistry :85\n",
            "Enter marks of English :90\n",
            "Enter marks of Physics :98\n",
            "SAMPLE GRADESHEET\n",
            "Name :  Mudit Tyagi\n",
            "Roll no : 590014218\n",
            "SAP ID : 590014218\n",
            "SEM : 1\n",
            "COURSE : Btech CSE\n",
            "PDS : 80.0\n",
            "PYTHON : 85.0\n",
            "CHEMISTRY : 85.0\n",
            "ENGLISH : 90.0\n",
            "PHYSICS : 98.0\n",
            "percentage :  87.6\n",
            "CGPA :  8.76\n",
            "GRADE : A+\n"
          ]
        }
      ]
    },
    {
      "cell_type": "code",
      "source": [
        "sec_num=14\n",
        "guess_count=3\n",
        "counter=0\n",
        "while counter<guess_count:\n",
        "    num=int(input(\"ENter the Guess\"))\n",
        "    if num==sec_num:\n",
        "       print(\"success\")\n",
        "       break\n",
        "    else:\n",
        "        counter=counter+1\n",
        "        print(\"try again\")"
      ],
      "metadata": {
        "colab": {
          "base_uri": "https://localhost:8080/"
        },
        "id": "R5ZwukpIXQ6E",
        "outputId": "68d7f563-5734-4ee5-ace8-d9b8476c16aa"
      },
      "execution_count": null,
      "outputs": [
        {
          "output_type": "stream",
          "name": "stdout",
          "text": [
            "ENter the Guess5\n",
            "try again\n",
            "ENter the Guess14\n",
            "success\n"
          ]
        }
      ]
    },
    {
      "cell_type": "code",
      "source": [
        "command=\"\"\n",
        "while command! ='quit':\n",
        "    command=input(\"\")\n",
        "    if command=='start':\n",
        "      print(\"Car started\")\n",
        "    elif command=='stop':\n",
        "        print(\"Car stopped\")\n",
        "    elif command==''\n",
        "\n",
        "\n"
      ],
      "metadata": {
        "id": "WxtGSBPOYx7M"
      },
      "execution_count": null,
      "outputs": []
    },
    {
      "cell_type": "code",
      "source": [
        "num = int(input(\"Enter a number: \"))/\n",
        "if num < 2:\n",
        "    print(f\"{num} is not a prime number.\")\n",
        "else:\n",
        "    i = 2\n",
        "    is_prime = True\n",
        "    while i * i <= num:\n",
        "        if num % i == 0:\n",
        "            is_prime = False\n",
        "            break\n",
        "        i += 1\n",
        "    if is_prime:\n",
        "        print(f\"{num} is a prime number.\")\n",
        "    else:\n",
        "        print(f\"{num} is not a prime number.\")\n"
      ],
      "metadata": {
        "id": "bFSjtXEPb40k"
      },
      "execution_count": null,
      "outputs": []
    },
    {
      "cell_type": "code",
      "source": [
        "num = int(input(\"Enter a number: \"))\\\n",
        "original_num = num\n",
        "reversed_num = 0\n",
        "while num > 0:\n",
        "    digit = num % 10\n",
        "    reversed_num = reversed_num * 10 + digit\n",
        "    num //= 10\n",
        "if original_num == reversed_num:\n",
        "    print(f\"{original_num} is a palindrome.\")\n",
        "else:\n",
        "    print(f\"{original_num} is not a palindrome.\")\n"
      ],
      "metadata": {
        "id": "oO1mTaWncqAp"
      },
      "execution_count": null,
      "outputs": []
    },
    {
      "cell_type": "code",
      "source": [
        "num = int(input(\"Enter a number: \"))\\\n",
        "sum_of_digits = 0\n",
        "while num > 0:\n",
        "    digit = num % 10\n",
        "    sum_of_digits += digit\n",
        "    num //= 10\n",
        "print(f\"The sum of digits is {sum_of_digits}.\")\n"
      ],
      "metadata": {
        "id": "kuyS4zAhdMhG"
      },
      "execution_count": null,
      "outputs": []
    },
    {
      "cell_type": "code",
      "source": [
        "i = 1\\\n",
        "count = 0\n",
        "while i <= 100:\n",
        "    if i % 5 == 0 or i % 7 == 0:\n",
        "        print(i, end=\" \")\n",
        "        count += 1\n",
        "    i += 1\n",
        "print(f\"\\nCount of numbers divisible by 5 or 7: {count}\")\n"
      ],
      "metadata": {
        "id": "M64vgVSOdjnY"
      },
      "execution_count": null,
      "outputs": []
    },
    {
      "cell_type": "code",
      "source": [
        "string = input(\"Enter a string: \")\n",
        "i = 0\n",
        "result = \"\"\n",
        "while i < len(string):\n",
        "    char = string[i]\n",
        "    if 'a' <= char <= 'z':\n",
        "        char = chr(ord(char) - 32)\n",
        "    result += char\n",
        "    i += 1\n",
        "print(f\"Converted string: {result}\")\n"
      ],
      "metadata": {
        "colab": {
          "base_uri": "https://localhost:8080/"
        },
        "id": "kXSyfhW1eEVZ",
        "outputId": "71c9dbf8-15da-4dde-e800-ac49cbc0ded9"
      },
      "execution_count": null,
      "outputs": [
        {
          "output_type": "stream",
          "name": "stdout",
          "text": [
            "Enter a string: My name is Mudit\n",
            "Converted string: MY NAME IS MUDIT\n"
          ]
        }
      ]
    },
    {
      "cell_type": "code",
      "source": [
        "i = 2\\\n",
        "while i <= 100:\n",
        "    is_prime = True\n",
        "    j = 2\n",
        "    while j * j <= i:\n",
        "        if i % j == 0:\n",
        "            is_prime = False\n",
        "            break\n",
        "        j += 1\n",
        "    if is_prime:\n",
        "        print(i, end=\" \")\n",
        "    i += 1\n"
      ],
      "metadata": {
        "id": "h68T_fDlfpbU"
      },
      "execution_count": null,
      "outputs": []
    },
    {
      "cell_type": "code",
      "source": [
        "num = int(input(\"Enter a number: \"))\\\n",
        "i = 1\n",
        "while i <= 10:\n",
        "    print(f\"{num} * {i} = {num * i}\")\n",
        "    i += 1\n"
      ],
      "metadata": {
        "id": "iWn2PQkjh_hj"
      },
      "execution_count": null,
      "outputs": []
    },
    {
      "cell_type": "code",
      "source": [
        "num = int(input(\"Enter a number: \"))\\\n",
        "factorial = 1\n",
        "i = 1\n",
        "while i <= num:\n",
        "    factorial *= i\n",
        "    i += 1\n",
        "print(f\"The factorial of {num} is {factorial}.\")\n"
      ],
      "metadata": {
        "id": "3ole32BfiWZ5"
      },
      "execution_count": null,
      "outputs": []
    },
    {
      "cell_type": "code",
      "source": [
        "s1='Welcome'\n",
        "for i in s1:\n",
        "  print(i)\n",
        "  if i==l:\n",
        "     continue"
      ],
      "metadata": {
        "colab": {
          "base_uri": "https://localhost:8080/",
          "height": 211
        },
        "id": "jENNerXzvM0R",
        "outputId": "0899fd2e-ead7-410c-a5cc-faf76246b4c6"
      },
      "execution_count": 5,
      "outputs": [
        {
          "output_type": "stream",
          "name": "stdout",
          "text": [
            "W\n"
          ]
        },
        {
          "output_type": "error",
          "ename": "NameError",
          "evalue": "name 'l' is not defined",
          "traceback": [
            "\u001b[0;31m---------------------------------------------------------------------------\u001b[0m",
            "\u001b[0;31mNameError\u001b[0m                                 Traceback (most recent call last)",
            "\u001b[0;32m<ipython-input-5-63f0eb7d37cd>\u001b[0m in \u001b[0;36m<cell line: 0>\u001b[0;34m()\u001b[0m\n\u001b[1;32m      2\u001b[0m \u001b[0;32mfor\u001b[0m \u001b[0mi\u001b[0m \u001b[0;32min\u001b[0m \u001b[0ms1\u001b[0m\u001b[0;34m:\u001b[0m\u001b[0;34m\u001b[0m\u001b[0;34m\u001b[0m\u001b[0m\n\u001b[1;32m      3\u001b[0m   \u001b[0mprint\u001b[0m\u001b[0;34m(\u001b[0m\u001b[0mi\u001b[0m\u001b[0;34m)\u001b[0m\u001b[0;34m\u001b[0m\u001b[0;34m\u001b[0m\u001b[0m\n\u001b[0;32m----> 4\u001b[0;31m   \u001b[0;32mif\u001b[0m \u001b[0mi\u001b[0m\u001b[0;34m==\u001b[0m\u001b[0ml\u001b[0m\u001b[0;34m:\u001b[0m\u001b[0;34m\u001b[0m\u001b[0;34m\u001b[0m\u001b[0m\n\u001b[0m\u001b[1;32m      5\u001b[0m      \u001b[0;32mcontinue\u001b[0m\u001b[0;34m\u001b[0m\u001b[0;34m\u001b[0m\u001b[0m\n",
            "\u001b[0;31mNameError\u001b[0m: name 'l' is not defined"
          ]
        }
      ]
    },
    {
      "cell_type": "code",
      "source": [
        "s1='Welcome'\n",
        "l1=[1,2,3,4,5]\n",
        "for i in s1:\n",
        "  for j in l1:\n",
        "    print(i,j)\n"
      ],
      "metadata": {
        "colab": {
          "base_uri": "https://localhost:8080/"
        },
        "id": "k0UxeEXLv4-H",
        "outputId": "ed322a93-0f1e-44f2-a787-18f2b1bb0588"
      },
      "execution_count": 4,
      "outputs": [
        {
          "output_type": "stream",
          "name": "stdout",
          "text": [
            "W 1\n",
            "W 2\n",
            "W 3\n",
            "W 4\n",
            "W 5\n",
            "e 1\n",
            "e 2\n",
            "e 3\n",
            "e 4\n",
            "e 5\n",
            "l 1\n",
            "l 2\n",
            "l 3\n",
            "l 4\n",
            "l 5\n",
            "c 1\n",
            "c 2\n",
            "c 3\n",
            "c 4\n",
            "c 5\n",
            "o 1\n",
            "o 2\n",
            "o 3\n",
            "o 4\n",
            "o 5\n",
            "m 1\n",
            "m 2\n",
            "m 3\n",
            "m 4\n",
            "m 5\n",
            "e 1\n",
            "e 2\n",
            "e 3\n",
            "e 4\n",
            "e 5\n"
          ]
        }
      ]
    },
    {
      "cell_type": "code",
      "source": [
        "n=int(input(\"Enter a number\"))\n",
        "s=1\n",
        "if n<0:\n",
        "  print(\"factorial dos not exist for negative numbers\")\n",
        "elif n==0:\n",
        "  print(\"The factorial is:\",1)\n",
        "else:\n",
        "  for i in range(1, n + 1):\n",
        "     s*= i\n",
        "print(f\"The factorial of {n} is {(s)}\")\n"
      ],
      "metadata": {
        "colab": {
          "base_uri": "https://localhost:8080/"
        },
        "id": "kC8IhqVrxR0t",
        "outputId": "efc304d3-f894-4ca2-c0cd-55badb4d214a"
      },
      "execution_count": 12,
      "outputs": [
        {
          "output_type": "stream",
          "name": "stdout",
          "text": [
            "Enter a number5\n",
            "The factorial of 5 is 120\n"
          ]
        }
      ]
    },
    {
      "cell_type": "code",
      "source": [
        "terms=int(input(\"Enter the number of terms: \"))\n",
        "a,b=0,1\n",
        "count=0\n",
        "for i in range(terms):\n",
        "  print(a,end=\" \")\n",
        "  c=a+b\n",
        "  a=b\n",
        "  b=c\n",
        "  count+=1"
      ],
      "metadata": {
        "colab": {
          "base_uri": "https://localhost:8080/"
        },
        "id": "N6Gy0kCi1EL2",
        "outputId": "91a19927-5ab1-4d21-ed93-c891a364fbef"
      },
      "execution_count": 13,
      "outputs": [
        {
          "output_type": "stream",
          "name": "stdout",
          "text": [
            "Enter the number of terms: 5\n",
            "0 1 1 2 3 "
          ]
        }
      ]
    }
  ]
}