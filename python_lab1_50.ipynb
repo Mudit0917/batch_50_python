{
  "nbformat": 4,
  "nbformat_minor": 0,
  "metadata": {
    "colab": {
      "provenance": [],
      "authorship_tag": "ABX9TyPKqDb0osRunwatogTcpyBV",
      "include_colab_link": true
    },
    "kernelspec": {
      "name": "python3",
      "display_name": "Python 3"
    },
    "language_info": {
      "name": "python"
    }
  },
  "cells": [
    {
      "cell_type": "markdown",
      "metadata": {
        "id": "view-in-github",
        "colab_type": "text"
      },
      "source": [
        "<a href=\"https://colab.research.google.com/github/Mudit0917/batch_50_python/blob/main/python_lab1_50.ipynb\" target=\"_parent\"><img src=\"https://colab.research.google.com/assets/colab-badge.svg\" alt=\"Open In Colab\"/></a>"
      ]
    },
    {
      "cell_type": "code",
      "execution_count": null,
      "metadata": {
        "colab": {
          "base_uri": "https://localhost:8080/"
        },
        "id": "6ihXlOPoJY1W",
        "outputId": "207f6a3a-7200-45a7-b102-70372e85fc0a"
      },
      "outputs": [
        {
          "output_type": "stream",
          "name": "stdout",
          "text": [
            "welcome to my python lab\n"
          ]
        }
      ],
      "source": [
        "#welcome to my first lab\n",
        "print(\"welcome to my python lab\")\n"
      ]
    },
    {
      "cell_type": "code",
      "source": [],
      "metadata": {
        "id": "7Fp1FFWqKAhg"
      },
      "execution_count": null,
      "outputs": []
    },
    {
      "cell_type": "markdown",
      "source": [
        "**KEYWORDS AND IDENTIFIERS**\n"
      ],
      "metadata": {
        "id": "vO18TEDYMWvC"
      }
    },
    {
      "cell_type": "code",
      "source": [
        "print(keyw.kwlist())"
      ],
      "metadata": {
        "colab": {
          "base_uri": "https://localhost:8080/",
          "height": 141
        },
        "id": "gQj-6_IXMoe0",
        "outputId": "03d1f7ac-55de-44ac-b255-3100afda8be3"
      },
      "execution_count": null,
      "outputs": [
        {
          "output_type": "error",
          "ename": "NameError",
          "evalue": "name 'keyw' is not defined",
          "traceback": [
            "\u001b[0;31m---------------------------------------------------------------------------\u001b[0m",
            "\u001b[0;31mNameError\u001b[0m                                 Traceback (most recent call last)",
            "\u001b[0;32m<ipython-input-2-74717d282a57>\u001b[0m in \u001b[0;36m<cell line: 1>\u001b[0;34m()\u001b[0m\n\u001b[0;32m----> 1\u001b[0;31m \u001b[0mprint\u001b[0m\u001b[0;34m(\u001b[0m\u001b[0mkeyw\u001b[0m\u001b[0;34m.\u001b[0m\u001b[0mkwlist\u001b[0m\u001b[0;34m(\u001b[0m\u001b[0;34m)\u001b[0m\u001b[0;34m)\u001b[0m\u001b[0;34m\u001b[0m\u001b[0;34m\u001b[0m\u001b[0m\n\u001b[0m",
            "\u001b[0;31mNameError\u001b[0m: name 'keyw' is not defined"
          ]
        }
      ]
    },
    {
      "cell_type": "code",
      "source": [
        "a=10+10\n",
        "print(a)\n",
        "a=10+10+\\\n",
        "  20+20+\\\n",
        "  30+20+10\n",
        "print(a)"
      ],
      "metadata": {
        "colab": {
          "base_uri": "https://localhost:8080/"
        },
        "id": "njE-cC5uNUjd",
        "outputId": "a712d1b0-efba-4be8-e145-e1b6d7be5690"
      },
      "execution_count": null,
      "outputs": [
        {
          "output_type": "stream",
          "name": "stdout",
          "text": [
            "20\n",
            "120\n"
          ]
        }
      ]
    },
    {
      "cell_type": "code",
      "source": [
        "# @title Default title text\n",
        "l1=['a',\n",
        "    'b',\n",
        "    'c',\n",
        "    'd',\n",
        "    'e'\n",
        "    ]\n",
        "l1"
      ],
      "metadata": {
        "colab": {
          "base_uri": "https://localhost:8080/"
        },
        "id": "3rWzIkYZORnE",
        "outputId": "921a6e43-c385-42dc-c045-b6af138df9d1"
      },
      "execution_count": null,
      "outputs": [
        {
          "output_type": "execute_result",
          "data": {
            "text/plain": [
              "['a', 'b', 'c', 'd', 'e']"
            ]
          },
          "metadata": {},
          "execution_count": 11
        }
      ]
    },
    {
      "cell_type": "markdown",
      "source": [],
      "metadata": {
        "id": "nIJL5suEO4Sp"
      }
    },
    {
      "cell_type": "code",
      "source": [
        "#assignment\n",
        "#mystring=\"'Hi, My name is Mudit tyagi'\\n 'And I Am A student doing my bachelors from UPES'\"\n",
        "print(mystring)"
      ],
      "metadata": {
        "colab": {
          "base_uri": "https://localhost:8080/"
        },
        "id": "IoVbPrUmQ55H",
        "outputId": "e4c6c9ea-7959-4843-a29b-5ca46924f054"
      },
      "execution_count": null,
      "outputs": [
        {
          "output_type": "stream",
          "name": "stdout",
          "text": [
            "'Hi, My name is Mudit tyagi'\n",
            " 'And I Am A student doing my bachlors from UPES'\n"
          ]
        }
      ]
    },
    {
      "cell_type": "code",
      "source": [
        "num1"
      ],
      "metadata": {
        "id": "rW_BxhFTS6ht"
      },
      "execution_count": null,
      "outputs": []
    },
    {
      "cell_type": "code",
      "source": [
        "num1=int(input(\"Enter your first number\"))\n",
        "num2=int(input(\"Enter your second number\"))\n",
        "sum=(num1 + num2)\n",
        "sum"
      ],
      "metadata": {
        "colab": {
          "base_uri": "https://localhost:8080/"
        },
        "id": "uud8j45wR8iU",
        "outputId": "118cebe3-81e4-4433-afd6-44e3d4f0a262"
      },
      "execution_count": null,
      "outputs": [
        {
          "name": "stdout",
          "output_type": "stream",
          "text": [
            "Enter your first number786\n",
            "Enter your second number108\n"
          ]
        },
        {
          "output_type": "execute_result",
          "data": {
            "text/plain": [
              "894"
            ]
          },
          "metadata": {},
          "execution_count": 21
        }
      ]
    },
    {
      "cell_type": "code",
      "source": [
        "num1=int(input(\"enter your first number\"))\n",
        "num2=int(input(\"enter your second number\"))\n",
        "product=(num1*num2)\n",
        "print(product)"
      ],
      "metadata": {
        "colab": {
          "base_uri": "https://localhost:8080/"
        },
        "id": "2OSZKb5JUwm8",
        "outputId": "63c8eee8-1dd0-4955-9c7f-af795064854a"
      },
      "execution_count": null,
      "outputs": [
        {
          "output_type": "stream",
          "name": "stdout",
          "text": [
            "enter your first number786\n",
            "enter your second number108\n",
            "84888\n"
          ]
        }
      ]
    },
    {
      "cell_type": "code",
      "source": [
        "a=10\n",
        "b=5\n",
        "print(a+b)\n",
        "print(a-b)\n",
        "print(a*b)\n",
        "print(a/b)\n",
        "print(a%b)"
      ],
      "metadata": {
        "id": "Re239xQgVPnt",
        "colab": {
          "base_uri": "https://localhost:8080/"
        },
        "outputId": "171ca8e4-d76a-4de3-b405-fc8db4ca525a"
      },
      "execution_count": 1,
      "outputs": [
        {
          "output_type": "stream",
          "name": "stdout",
          "text": [
            "15\n",
            "5\n",
            "50\n",
            "2.0\n",
            "0\n"
          ]
        }
      ]
    },
    {
      "cell_type": "code",
      "source": [
        "a=17\n",
        "b=3\n",
        "print(a//b)"
      ],
      "metadata": {
        "colab": {
          "base_uri": "https://localhost:8080/"
        },
        "id": "SgjZF8R4lOCl",
        "outputId": "49e2e032-12b9-4983-bad5-f7f6a87abe80"
      },
      "execution_count": 2,
      "outputs": [
        {
          "output_type": "stream",
          "name": "stdout",
          "text": [
            "5\n"
          ]
        }
      ]
    },
    {
      "cell_type": "code",
      "source": [
        "a=17\n",
        "b=3\n",
        "print(a**b)\n",
        "print(a/b)\n",
        "print(a==b)\n",
        "print(a!=b)\n",
        "print(a>b)\n",
        "print(a<b)\n",
        "print(a>=b)\n",
        "print(a<=b)\n",
        "print(a^b)"
      ],
      "metadata": {
        "colab": {
          "base_uri": "https://localhost:8080/"
        },
        "id": "1VIeW-e0lZMK",
        "outputId": "940eea2d-7a79-483e-d397-3976852658d3"
      },
      "execution_count": 6,
      "outputs": [
        {
          "output_type": "stream",
          "name": "stdout",
          "text": [
            "4913\n",
            "5.666666666666667\n",
            "False\n",
            "True\n",
            "True\n",
            "False\n",
            "True\n",
            "False\n",
            "18\n"
          ]
        }
      ]
    },
    {
      "cell_type": "markdown",
      "source": [
        "BITWISE OPERATORS\n"
      ],
      "metadata": {
        "id": "HX4_1Mgqm3AQ"
      }
    },
    {
      "cell_type": "markdown",
      "source": [
        "AND(&),OR(OR),NOT(!),XOR(^)\n",
        "\n"
      ],
      "metadata": {
        "id": "rORrTUHXoTex"
      }
    },
    {
      "cell_type": "code",
      "source": [
        "a=0o00001010\n",
        "print(a>>1)\n"
      ],
      "metadata": {
        "colab": {
          "base_uri": "https://localhost:8080/"
        },
        "id": "DtXRzeOCqwN0",
        "outputId": "5a3743ce-02d0-4d78-c94d-df56be547df1"
      },
      "execution_count": 11,
      "outputs": [
        {
          "output_type": "stream",
          "name": "stdout",
          "text": [
            "260\n"
          ]
        }
      ]
    },
    {
      "cell_type": "code",
      "source": [
        "a=15\n",
        "print(a>>1)"
      ],
      "metadata": {
        "colab": {
          "base_uri": "https://localhost:8080/"
        },
        "id": "Itt84IN3nCWo",
        "outputId": "fcb889b1-0672-40ec-d830-6551087f8d82"
      },
      "execution_count": 9,
      "outputs": [
        {
          "output_type": "stream",
          "name": "stdout",
          "text": [
            "7\n"
          ]
        }
      ]
    },
    {
      "cell_type": "code",
      "source": [
        "a=10\n",
        "b=5\n",
        "if(a>b) && (a==b):\n",
        "print(\"success\")\n",
        "else:print(\"fail\")"
      ],
      "metadata": {
        "colab": {
          "base_uri": "https://localhost:8080/",
          "height": 106
        },
        "id": "1-xWTwUcqfHV",
        "outputId": "05c31b16-06cb-4b5c-f355-e9a38f4a1169"
      },
      "execution_count": 14,
      "outputs": [
        {
          "output_type": "error",
          "ename": "SyntaxError",
          "evalue": "invalid syntax (<ipython-input-14-da73150f9844>, line 3)",
          "traceback": [
            "\u001b[0;36m  File \u001b[0;32m\"<ipython-input-14-da73150f9844>\"\u001b[0;36m, line \u001b[0;32m3\u001b[0m\n\u001b[0;31m    if(a>b) && (a==b):\u001b[0m\n\u001b[0m             ^\u001b[0m\n\u001b[0;31mSyntaxError\u001b[0m\u001b[0;31m:\u001b[0m invalid syntax\n"
          ]
        }
      ]
    },
    {
      "cell_type": "code",
      "source": [],
      "metadata": {
        "id": "JOSyxTFOuGH8"
      },
      "execution_count": 13,
      "outputs": []
    },
    {
      "cell_type": "markdown",
      "source": [
        "Write a program to use input function and take 2 variables store numbers in them and use arithmetic functions."
      ],
      "metadata": {
        "id": "bSZXjZWNufsN"
      }
    },
    {
      "cell_type": "code",
      "source": [
        "a=int(input(\"enter your first number\"))\n",
        "b=int(input(\"enter your second number\"))\n",
        "askk=input(\"enter your operation\")\n",
        "print(eval(str(a) + askk + str(b)))"
      ],
      "metadata": {
        "colab": {
          "base_uri": "https://localhost:8080/"
        },
        "id": "GE9a4uqDvEJi",
        "outputId": "5ec7a633-3027-453b-ee1a-49ce58cbb294"
      },
      "execution_count": 21,
      "outputs": [
        {
          "output_type": "stream",
          "name": "stdout",
          "text": [
            "enter your first number15\n",
            "enter your second number30\n",
            "enter your operation+\n",
            "45\n"
          ]
        }
      ]
    },
    {
      "cell_type": "code",
      "source": [],
      "metadata": {
        "id": "77flq45BvQYP"
      },
      "execution_count": null,
      "outputs": []
    }
  ]
}